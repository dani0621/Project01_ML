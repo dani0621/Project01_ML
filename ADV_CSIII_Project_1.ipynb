{
  "nbformat": 4,
  "nbformat_minor": 0,
  "metadata": {
    "colab": {
      "provenance": [],
      "authorship_tag": "ABX9TyNW6DbGtJyDi+QIsdY3ceTU",
      "include_colab_link": true
    },
    "kernelspec": {
      "name": "python3",
      "display_name": "Python 3"
    },
    "language_info": {
      "name": "python"
    }
  },
  "cells": [
    {
      "cell_type": "markdown",
      "metadata": {
        "id": "view-in-github",
        "colab_type": "text"
      },
      "source": [
        "<a href=\"https://colab.research.google.com/github/dani0621/ADV_CSIII_Project_1/blob/main/ADV_CSIII_Project_1.ipynb\" target=\"_parent\"><img src=\"https://colab.research.google.com/assets/colab-badge.svg\" alt=\"Open In Colab\"/></a>"
      ]
    },
    {
      "cell_type": "markdown",
      "source": [
        "# **NBA Win Prediction Model**"
      ],
      "metadata": {
        "id": "QunxSc2ZTjjI"
      }
    },
    {
      "cell_type": "markdown",
      "source": [
        "### **Imports**"
      ],
      "metadata": {
        "id": "1qzRBjVxc0Sd"
      }
    },
    {
      "cell_type": "code",
      "execution_count": 47,
      "metadata": {
        "colab": {
          "base_uri": "https://localhost:8080/"
        },
        "id": "qr5cjOWDfbmW",
        "outputId": "d1a2797f-16c7-4613-8b20-629da7b73baa"
      },
      "outputs": [
        {
          "output_type": "stream",
          "name": "stdout",
          "text": [
            "Drive already mounted at /content/drive; to attempt to forcibly remount, call drive.mount(\"/content/drive\", force_remount=True).\n"
          ]
        }
      ],
      "source": [
        "#importing files and libraries, connecting data file from Google Drive\n",
        "import pandas as pd\n",
        "import numpy as np\n",
        "import math\n",
        "\n",
        "from sklearn.model_selection import train_test_split\n",
        "from sklearn.linear_model import LinearRegression\n",
        "from sklearn import metrics\n",
        "from google.colab import files\n",
        "from google.colab import drive\n",
        "\n",
        "drive.mount(\"/content/drive\")\n",
        "data=pd.read_csv('/content/drive/My Drive/MLA/team.csv')"
      ]
    },
    {
      "cell_type": "markdown",
      "source": [
        "### **Rating and Percentage Calculations for Missing Data**"
      ],
      "metadata": {
        "id": "g65P7RuqheLH"
      }
    },
    {
      "cell_type": "code",
      "source": [
        "# Winning percentage equation from ChatGPT\n",
        "data['W_PCT'] = data.groupby('team')['win'].transform(lambda x: x.cumsum() / (x.index + 1))\n",
        "\n",
        "# True Shooting Percentage\n",
        "# ts_percentage= (points[PTS] * 100)/(2*(field goal attempts[FGA] + 0.44 * Free throw attempts [fta])) from Google Search\n",
        "data['TS_PCT'] = (data['PTS'] * 100) / (2 * (data['FGA'] + 0.44 * data['FTA']))"
      ],
      "metadata": {
        "id": "bSUTf-I_hgMv"
      },
      "execution_count": 48,
      "outputs": []
    },
    {
      "cell_type": "markdown",
      "source": [
        "### **Clean Data/ Basic Analysis**"
      ],
      "metadata": {
        "id": "SYcxHls7c2Jc"
      }
    },
    {
      "cell_type": "code",
      "source": [
        "# Filter all the games played before 10/19/2018 as only the data from the past few years would be accurate in the our current win prediction model\n",
        "data_filtered = data[data['date'] >= '10/19/2018']\n",
        "\n",
        "# filters out rows that don't't have values\n",
        "data_clean = data_filtered.dropna().drop_duplicates()\n",
        "\n",
        "data_cleaned = data[['home','away', 'date', 'season', 'win', 'PTS', 'REB', 'TOV', '+/-', 'FTM', 'FTA', 'AST', 'BLK', 'TS_PCT', 'W_PCT']]"
      ],
      "metadata": {
        "id": "UHSep_L5Sj0A"
      },
      "execution_count": 49,
      "outputs": []
    },
    {
      "cell_type": "markdown",
      "source": [
        "### **Logistic Regressions**"
      ],
      "metadata": {
        "id": "ioSlVn6Dg2C3"
      }
    },
    {
      "cell_type": "code",
      "source": [
        "def performLinReg(dataframe):\n",
        "  # what factors we want to later use for our independent variables\n",
        "  featureColumns = ['W_PCT', 'REB', 'TOV', '+/-', 'TS_PCT', 'FTM', 'FTA', 'AST', 'BLK']\n",
        "\n",
        "  # following yt videos\n",
        "  X = dataframe[featureColumns]\n",
        "  Y = dataframe['PTS']\n",
        "\n",
        "  # training and testing sets, maybe change test_size (look into more later on Kandell used 0.25)\n",
        "  X_train, X_test, Y_train, Y_test = train_test_split(X, Y, test_size=0.25, shuffle=True)\n",
        "\n",
        "  linreg = LinearRegression()\n",
        "  linreg.fit(X_train, Y_train)\n",
        "  Y_pred = linreg.predict(X_test)\n",
        "\n",
        "  # model performance, from Kandell\n",
        "  print(\"Mean Absolute Error:\", metrics.mean_absolute_error(Y_test, Y_pred))\n",
        "  print(\"Mean Squared Error:\", metrics.mean_squared_error(Y_test, Y_pred))\n",
        "  print(\"Root Mean Squared Error:\", math.sqrt(metrics.mean_squared_error(Y_test, Y_pred, squared=False)))\n",
        "  print('----------------------------------')\n",
        "\n",
        "  # displaying coefficients for model\n",
        "  print('Coefficient Information:')\n",
        "  for i, feature in enumerate(featureColumns):\n",
        "      print(f\"{feature}: {linreg.coef_[i]}\")\n",
        "\n",
        "  return linreg\n",
        "\n",
        "model = performLinReg(data_cleaned)"
      ],
      "metadata": {
        "id": "HVPvUdRA7wK-",
        "colab": {
          "base_uri": "https://localhost:8080/"
        },
        "outputId": "ba97515e-b658-429c-955c-755e3b588260"
      },
      "execution_count": 61,
      "outputs": [
        {
          "output_type": "stream",
          "name": "stdout",
          "text": [
            "Mean Absolute Error: 4.702170899882689\n",
            "Mean Squared Error: 35.7462699369314\n",
            "Root Mean Squared Error: 2.44516225225856\n",
            "----------------------------------\n",
            "Coefficient Information:\n",
            "W_PCT: -92.59449675025297\n",
            "REB: 0.7649161727915788\n",
            "TOV: -0.8000191865457162\n",
            "+/-: -0.20376714856987643\n",
            "TS_PCT: 1.753801887426401\n",
            "FTM: 0.2681271814692355\n",
            "FTA: 0.05617358029874269\n",
            "AST: 0.604495756149373\n",
            "BLK: -0.062411343744697964\n"
          ]
        },
        {
          "output_type": "stream",
          "name": "stderr",
          "text": [
            "/usr/local/lib/python3.10/dist-packages/sklearn/metrics/_regression.py:492: FutureWarning: 'squared' is deprecated in version 1.4 and will be removed in 1.6. To calculate the root mean squared error, use the function'root_mean_squared_error'.\n",
            "  warnings.warn(\n"
          ]
        }
      ]
    },
    {
      "cell_type": "markdown",
      "source": [
        "### **Converting Abreviations to Full Names**"
      ],
      "metadata": {
        "id": "CwSoyhPuuUly"
      }
    },
    {
      "cell_type": "code",
      "source": [
        "team_names = {\n",
        "  'ATL': 'Atlanta Hawks',\n",
        "  'BKN': 'Brooklyn Nets',\n",
        "  'BOS': 'Boston Celtics',\n",
        "  'CHA': 'Charlotte Hornets',\n",
        "  'CHI': 'Chicago Bulls',\n",
        "  'CLE': 'Cleveland Cavaliers',\n",
        "  'DAL': 'Dallas Mavericks',\n",
        "  'DEN': 'Denver Nuggets',\n",
        "  'DET': 'Detroit Pistons',\n",
        "  'GSW': 'Golden State Warriors',\n",
        "  'HOU': 'Houston Rockets',\n",
        "  'IND': 'Indiana Pacers',\n",
        "  'LAC': 'Los Angeles Clippers',\n",
        "  'LAL': 'Los Angeles Lakers',\n",
        "  'MEM': 'Memphis Grizzlies',\n",
        "  'MIA': 'Miami Heat',\n",
        "  'MIL': 'Milwaukee Bucks',\n",
        "  'MIN': 'Minnesota Timberwolves',\n",
        "  'NOP': 'New Orleans Pelicans',\n",
        "  'OKC': 'Oklahoma City Thunder',\n",
        "  'ORL': 'Orlando Magic',\n",
        "  'PHI': 'Philadelphia 76ers',\n",
        "  'PHX': 'Phoenix Suns',\n",
        "  'POR': 'Portland Trail Blazers',\n",
        "  'SAC': 'Sacramento Kings',\n",
        "  'SAS': 'San Antonio Spurs',\n",
        "  'TOR': 'Toronto Raptors',\n",
        "  'UTA': 'Utah Jazz',\n",
        "  'WAS': 'Washington Wizards'\n",
        "  }\n",
        "\n",
        "def get_full_team_name(team_abbreviation):\n",
        "  # abreviation -> full name\n",
        "  return team_names.get(team_abbreviation, team_abbreviation)"
      ],
      "metadata": {
        "id": "pgkdiNMtuK-M"
      },
      "execution_count": 51,
      "outputs": []
    },
    {
      "cell_type": "markdown",
      "source": [
        "### **Prediction for One Game**"
      ],
      "metadata": {
        "id": "rTRA-AKVxBZC"
      }
    },
    {
      "cell_type": "code",
      "source": [
        "def predict_game_performance(model, home_team, away_team, game_date, season, dataframe):\n",
        "  # date formatting is consistent with file\n",
        "  game_date = pd.to_datetime(game_date)\n",
        "  data_cleaned.loc[:, 'date'] = pd.to_datetime(data_cleaned['date'])\n",
        "\n",
        "  # gets stats for home team\n",
        "  game_data_home = dataframe[(dataframe['home'] == home_team) & (dataframe['date'] == game_date) & (dataframe['season'] == season)]\n",
        "\n",
        "  if game_data_home.empty:\n",
        "      print(\"No data available for the home game.\")\n",
        "      return\n",
        "\n",
        "  # Extract the feature values for the home team\n",
        "  featureColumns = ['W_PCT', 'REB', 'TOV', '+/-', 'TS_PCT', 'FTM', 'FTA', 'AST', 'BLK']\n",
        "\n",
        "\n",
        "  X_new_home = game_data_home[featureColumns]\n",
        "\n",
        "  # Predict stats for the home team\n",
        "  home_stats_pred = model.predict(X_new_home)\n",
        "\n",
        "  # For demonstration, let's assume the model is trained only for points\n",
        "  points_pred_home = home_stats_pred[0]  # Assuming first output is points\n",
        "  # Create dummy predictions for other stats if only points are predicted\n",
        "  rebounds_pred_home = game_data_home['REB'].mean()  # Replace with appropriate logic\n",
        "  turnovers_pred_home = game_data_home['TOV'].mean()  # Replace with appropriate logic\n",
        "  assists_pred_home = game_data_home['AST'].mean()  # Replace with appropriate logic\n",
        "  free_throws_pred_home = game_data_home['FTM'].mean()  # Replace with appropriate logic\n",
        "  blocks_pred_home = game_data_home['BLK'].mean()  # Replace with appropriate logic\n",
        "\n",
        "\n",
        "  # Predict away team points using relevant features for the away team\n",
        "  game_data_away = dataframe[(dataframe['away'] == away_team) &\n",
        "                              (dataframe['date'] == game_date) &\n",
        "                              (dataframe['season'] == season)]\n",
        "\n",
        "  if game_data_away.empty:\n",
        "      print(\"No data available for the away game.\")\n",
        "      return\n",
        "\n",
        "  X_new_away = game_data_away[featureColumns]\n",
        "\n",
        "  # Print prediction results\n",
        "  win_prob = model.coef_[0]  # Example win probability calculation; customize as needed\n",
        "  print(f'There is a {win_prob:.2f}% chance that the {home_team} will defeat the {away_team} by:')\n",
        "  print(f'- Home Team Scoring: {points_pred_home:.2f} points')\n",
        "  print(f'- Home Team Rebounds: {rebounds_pred_home:.2f}')\n",
        "  print(f'- Home Team Turnovers: {turnovers_pred_home:.2f}')\n",
        "  print(f'- Home Team Assists: {assists_pred_home:.2f}')\n",
        "  print(f'- Home Team Free Throws: {free_throws_pred_home:.2f}')\n",
        "  print(f'- Home Team Blocks: {blocks_pred_home:.2f}')\n",
        "\n",
        "# predicting for one game\n",
        "predict_game_performance(model, 'NOP', 'PHX', '2022-04-22', 2022, data_cleaned)"
      ],
      "metadata": {
        "id": "M0PxrPoqldSk",
        "colab": {
          "base_uri": "https://localhost:8080/"
        },
        "outputId": "235a7a23-6c71-49e0-8f1c-0a689505e6a9"
      },
      "execution_count": 62,
      "outputs": [
        {
          "output_type": "stream",
          "name": "stdout",
          "text": [
            "There is a -92.59% chance that the NOP will defeat the PHX by:\n",
            "- Home Team Scoring: 113.02 points\n",
            "- Home Team Rebounds: 40.00\n",
            "- Home Team Turnovers: 10.50\n",
            "- Home Team Assists: 21.50\n",
            "- Home Team Free Throws: 23.00\n",
            "- Home Team Blocks: 4.00\n"
          ]
        }
      ]
    }
  ]
}