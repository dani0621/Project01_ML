{
  "nbformat": 4,
  "nbformat_minor": 0,
  "metadata": {
    "colab": {
      "provenance": [],
      "collapsed_sections": [
        "CwSoyhPuuUly"
      ],
      "authorship_tag": "ABX9TyOSgArUk1pYiFHOU2vyxZLE",
      "include_colab_link": true
    },
    "kernelspec": {
      "name": "python3",
      "display_name": "Python 3"
    },
    "language_info": {
      "name": "python"
    }
  },
  "cells": [
    {
      "cell_type": "markdown",
      "metadata": {
        "id": "view-in-github",
        "colab_type": "text"
      },
      "source": [
        "<a href=\"https://colab.research.google.com/github/dani0621/ADV_CSIII_Project_1/blob/main/ADV_CSIII_Project_1.ipynb\" target=\"_parent\"><img src=\"https://colab.research.google.com/assets/colab-badge.svg\" alt=\"Open In Colab\"/></a>"
      ]
    },
    {
      "cell_type": "markdown",
      "source": [
        "# **NBA Win Prediction Model**"
      ],
      "metadata": {
        "id": "QunxSc2ZTjjI"
      }
    },
    {
      "cell_type": "markdown",
      "source": [
        "### **Imports**"
      ],
      "metadata": {
        "id": "1qzRBjVxc0Sd"
      }
    },
    {
      "cell_type": "code",
      "execution_count": 1,
      "metadata": {
        "colab": {
          "base_uri": "https://localhost:8080/"
        },
        "id": "qr5cjOWDfbmW",
        "outputId": "32552213-48d4-482a-bcfe-5a89c973d129"
      },
      "outputs": [
        {
          "output_type": "stream",
          "name": "stdout",
          "text": [
            "Mounted at /content/drive\n"
          ]
        }
      ],
      "source": [
        "#importing files and libraries, connecting data file from Google Drive\n",
        "import pandas as pd\n",
        "import numpy as np\n",
        "import math\n",
        "\n",
        "from sklearn.model_selection import train_test_split\n",
        "from sklearn.linear_model import LinearRegression\n",
        "from sklearn import metrics\n",
        "from google.colab import files\n",
        "from google.colab import drive\n",
        "\n",
        "drive.mount(\"/content/drive\")\n",
        "data=pd.read_csv('/content/drive/My Drive/MLA/team.csv')"
      ]
    },
    {
      "cell_type": "markdown",
      "source": [
        "### **Rating and Percentage Calculations for Missing Data**"
      ],
      "metadata": {
        "id": "g65P7RuqheLH"
      }
    },
    {
      "cell_type": "code",
      "source": [
        "# Winning percentage equation from ChatGPT\n",
        "data['W_PCT'] = data.groupby('team')['win'].transform(lambda x: x.cumsum() / (x.index + 1))\n",
        "\n",
        "# True Shooting Percentage\n",
        "# to_percentage= (points[PTS] * 100)/(2*(field goal attempts[FGA] + 0.44 * Free throw attempts [fta])) from Google Search\n",
        "data['TO%'] = (data['PTS'] * 100) / (2 * (data['FGA'] + 0.44 * data['FTA']))"
      ],
      "metadata": {
        "id": "bSUTf-I_hgMv"
      },
      "execution_count": 2,
      "outputs": []
    },
    {
      "cell_type": "markdown",
      "source": [
        "### **Clean Data/ Basic Analysis**"
      ],
      "metadata": {
        "id": "SYcxHls7c2Jc"
      }
    },
    {
      "cell_type": "code",
      "source": [
        "# Filter all the games played before 10/19/2018 as only the data from the past few years would be accurate in the our current win prediction model\n",
        "data_filtered = data[data['date'] >= '10/19/2018']\n",
        "\n",
        "# filters out rows that don't't have values\n",
        "data_clean = data_filtered.dropna().drop_duplicates()\n",
        "\n",
        "data_cleaned = data[['home','away', 'date', 'season', 'win', 'PTS', 'REB', 'TOV', '+/-', 'FTM', 'FTA', 'AST', 'BLK', 'TO%', 'W_PCT', 'OREB', 'DREB', 'FG%', 'FT%', '3P%', 'FGA', 'FGM', '3PM', 'STL']]"
      ],
      "metadata": {
        "id": "UHSep_L5Sj0A"
      },
      "execution_count": 3,
      "outputs": []
    },
    {
      "cell_type": "markdown",
      "source": [
        "### **Logistic Regressions**"
      ],
      "metadata": {
        "id": "ioSlVn6Dg2C3"
      }
    },
    {
      "cell_type": "markdown",
      "source": [
        "#### **Points**"
      ],
      "metadata": {
        "id": "kJQHU1bUtlvN"
      }
    },
    {
      "cell_type": "code",
      "source": [
        "def performLinRegPt(dataframe):\n",
        "  # factors\n",
        "  featureColumns = ['W_PCT', 'REB', 'TOV', '+/-', 'TO%', 'FTM', 'FTA', 'AST', 'BLK', 'FT%', 'FG%', 'OREB', '3PM']\n",
        "\n",
        "  X = dataframe[featureColumns]\n",
        "  Y = dataframe['PTS']\n",
        "\n",
        "  # training and testing sets\n",
        "  X_train, X_test, Y_train, Y_test = train_test_split(X, Y, test_size=0.25, shuffle=True)\n",
        "\n",
        "  linreg = LinearRegression()\n",
        "  linreg.fit(X_train, Y_train)\n",
        "  Y_pred = linreg.predict(X_test)\n",
        "\n",
        "  # model performance, accuracy, from Kandell\n",
        "  print(\"Mean Absolute Error:\", metrics.mean_absolute_error(Y_test, Y_pred))\n",
        "  print(\"Mean Squared Error:\", metrics.mean_squared_error(Y_test, Y_pred))\n",
        "  print(\"Root Mean Squared Error:\", metrics.root_mean_squared_error(Y_test, Y_pred))\n",
        "  print('----------------------------------')\n",
        "\n",
        "  # displaying coefficients for model\n",
        "  print('Coefficient Information:')\n",
        "  for i, feature in enumerate(featureColumns):\n",
        "      print(f\"{feature}: {linreg.coef_[i]}\")\n",
        "\n",
        "  return linreg\n",
        "\n",
        "pt_model = performLinRegPt(data_cleaned)"
      ],
      "metadata": {
        "id": "HVPvUdRA7wK-",
        "colab": {
          "base_uri": "https://localhost:8080/"
        },
        "outputId": "178695f9-df8d-4d1e-81c1-0efc0943baa7"
      },
      "execution_count": 19,
      "outputs": [
        {
          "output_type": "stream",
          "name": "stdout",
          "text": [
            "Mean Absolute Error: 1.9900546961106098\n",
            "Mean Squared Error: 7.320605299002524\n",
            "Root Mean Squared Error: 2.705661711855812\n",
            "----------------------------------\n",
            "Coefficient Information:\n",
            "W_PCT: -24.177310139884035\n",
            "REB: 0.11568425744869301\n",
            "TOV: -0.181922253852623\n",
            "+/-: -0.027919781142483974\n",
            "TO%: -6.732549047235092\n",
            "FTM: 4.495718204653165\n",
            "FTA: -1.7026585104257468\n",
            "AST: 0.12072113714766768\n",
            "BLK: -0.006651898675963055\n",
            "FT%: 0.039552936383902185\n",
            "FG%: 7.565412297895933\n",
            "OREB: 0.17872120600528943\n",
            "3PM: 4.733365966059371\n"
          ]
        }
      ]
    },
    {
      "cell_type": "markdown",
      "source": [
        "#### **Rebounds**"
      ],
      "metadata": {
        "id": "NTAZLu4EtvPB"
      }
    },
    {
      "cell_type": "code",
      "source": [
        "def performLinRegRB(dataframe):\n",
        "  # factors\n",
        "  featureColumns = ['OREB', 'DREB','FG%', 'PTS', 'FT%', '+/-', 'BLK', '3P%']\n",
        "\n",
        "  X = dataframe[featureColumns]\n",
        "  Y = dataframe['REB']\n",
        "\n",
        "  # training and testing sets\n",
        "  X_train, X_test, Y_train, Y_test = train_test_split(X, Y, test_size=0.25, shuffle=True)\n",
        "\n",
        "  linreg = LinearRegression()\n",
        "  linreg.fit(X_train, Y_train)\n",
        "  Y_pred = linreg.predict(X_test)\n",
        "\n",
        "  print(\"Mean Absolute Error:\", metrics.mean_absolute_error(Y_test, Y_pred))\n",
        "  print(\"Mean Squared Error:\", metrics.mean_squared_error(Y_test, Y_pred))\n",
        "  print(\"Root Mean Squared Error:\", metrics.root_mean_squared_error(Y_test, Y_pred))\n",
        "  print('----------------------------------')\n",
        "\n",
        "  print('Coefficient Information:')\n",
        "  for i, feature in enumerate(featureColumns):\n",
        "      print(f\"{feature}: {linreg.coef_[i]}\")\n",
        "\n",
        "  return linreg\n",
        "\n",
        "rb_model = performLinRegRB(data_cleaned)"
      ],
      "metadata": {
        "colab": {
          "base_uri": "https://localhost:8080/"
        },
        "id": "8ZIlN0JstkRN",
        "outputId": "a4c23670-39af-4eeb-d358-b265bd0df5b0"
      },
      "execution_count": 18,
      "outputs": [
        {
          "output_type": "stream",
          "name": "stdout",
          "text": [
            "Mean Absolute Error: 7.22917754379742e-15\n",
            "Mean Squared Error: 9.052476103813857e-29\n",
            "Root Mean Squared Error: 9.514450117486485e-15\n",
            "----------------------------------\n",
            "Coefficient Information:\n",
            "OREB: 0.9999999999999996\n",
            "DREB: 1.0000000000000004\n",
            "FG%: 4.440892098500626e-16\n",
            "PTS: 5.551115123125783e-17\n",
            "FT%: -2.7755575615628914e-16\n",
            "+/-: -2.3592239273284576e-16\n",
            "BLK: 2.7755575615628914e-17\n",
            "3P%: 5.551115123125783e-16\n"
          ]
        }
      ]
    },
    {
      "cell_type": "markdown",
      "source": [
        "#### **Turnovers**"
      ],
      "metadata": {
        "id": "OAu1mE9lt_sL"
      }
    },
    {
      "cell_type": "code",
      "source": [
        "def performLinRegTO(dataframe):\n",
        "  featureColumns = ['AST', 'REB', '+/-', \"TO%\", \"FGA\", \"3P%\", \"STL\",\"OREB\",\"DREB\", \"FG%\", \"FT%\"]\n",
        "\n",
        "  X = dataframe[featureColumns]\n",
        "  Y = dataframe['TOV']\n",
        "\n",
        "  X_train, X_test, Y_train, Y_test = train_test_split(X, Y, test_size=0.25, shuffle=True)\n",
        "\n",
        "  linreg = LinearRegression()\n",
        "  linreg.fit(X_train, Y_train)\n",
        "  Y_pred = linreg.predict(X_test)\n",
        "\n",
        "  print(\"Mean Absolute Error:\", metrics.mean_absolute_error(Y_test, Y_pred))\n",
        "  print(\"Mean Squared Error:\", metrics.mean_squared_error(Y_test, Y_pred))\n",
        "  print(\"Root Mean Squared Error:\", metrics.root_mean_squared_error(Y_test, Y_pred))\n",
        "  print('----------------------------------')\n",
        "\n",
        "  print('Coefficient Information:')\n",
        "  for i, feature in enumerate(featureColumns):\n",
        "      print(f\"{feature}: {linreg.coef_[i]}\")\n",
        "\n",
        "  return linreg\n",
        "\n",
        "to_model = performLinRegTO(data_cleaned)"
      ],
      "metadata": {
        "colab": {
          "base_uri": "https://localhost:8080/"
        },
        "id": "XvcLfQBVt3Xr",
        "outputId": "ff4ff76f-d7b0-4f40-a80e-e89490b18fb9"
      },
      "execution_count": 17,
      "outputs": [
        {
          "output_type": "stream",
          "name": "stdout",
          "text": [
            "Mean Absolute Error: 2.4576581914351516\n",
            "Mean Squared Error: 9.498559865528138\n",
            "Root Mean Squared Error: 3.0819733719693523\n",
            "----------------------------------\n",
            "Coefficient Information:\n",
            "AST: 0.06404194556258672\n",
            "REB: 0.29172129289506493\n",
            "+/-: -0.19397321961787947\n",
            "TO%: 0.05495787713811429\n",
            "FGA: -0.3094252607710219\n",
            "3P%: 0.02466322291329305\n",
            "STL: 0.4730107529579296\n",
            "OREB: 0.1831736130066181\n",
            "DREB: 0.1085476798884471\n",
            "FG%: 0.18867028775125572\n",
            "FT%: 0.02692404906639759\n"
          ]
        }
      ]
    },
    {
      "cell_type": "markdown",
      "source": [
        "#### **Assists**"
      ],
      "metadata": {
        "id": "EvYdPE6AuCbs"
      }
    },
    {
      "cell_type": "code",
      "source": [
        "def performLinRegAS(dataframe):\n",
        "  featureColumns = ['PTS', 'FGM', 'TOV', '+/-']\n",
        "\n",
        "  X = dataframe[featureColumns]\n",
        "  Y = dataframe['AST']\n",
        "\n",
        "  X_train, X_test, Y_train, Y_test = train_test_split(X, Y, test_size=0.25, shuffle=True)\n",
        "\n",
        "  linreg = LinearRegression()\n",
        "  linreg.fit(X_train, Y_train)\n",
        "  Y_pred = linreg.predict(X_test)\n",
        "\n",
        "  print(\"Mean Absolute Error:\", metrics.mean_absolute_error(Y_test, Y_pred))\n",
        "  print(\"Mean Squared Error:\", metrics.mean_squared_error(Y_test, Y_pred))\n",
        "  print(\"Root Mean Squared Error:\", metrics.root_mean_squared_error(Y_test, Y_pred))\n",
        "  print('----------------------------------')\n",
        "\n",
        "  print('Coefficient Information:')\n",
        "  for i, feature in enumerate(featureColumns):\n",
        "      print(f\"{feature}: {linreg.coef_[i]}\")\n",
        "\n",
        "  return linreg\n",
        "\n",
        "as_model = performLinRegAS(data_cleaned)"
      ],
      "metadata": {
        "colab": {
          "base_uri": "https://localhost:8080/"
        },
        "id": "IT-otkibt4Ag",
        "outputId": "b4a26192-1bdf-49b5-d3a9-61b988fc89cb"
      },
      "execution_count": 16,
      "outputs": [
        {
          "output_type": "stream",
          "name": "stdout",
          "text": [
            "Mean Absolute Error: 3.136043395538476\n",
            "Mean Squared Error: 15.381665595871262\n",
            "Root Mean Squared Error: 3.921946658978327\n",
            "----------------------------------\n",
            "Coefficient Information:\n",
            "PTS: 0.030679431368210587\n",
            "FGM: 0.5297011749172122\n",
            "TOV: 0.06837399919164579\n",
            "+/-: 0.046988769283430765\n"
          ]
        }
      ]
    },
    {
      "cell_type": "markdown",
      "source": [
        "#### **Free Throws**"
      ],
      "metadata": {
        "id": "Kpm8BHZDuFlz"
      }
    },
    {
      "cell_type": "code",
      "source": [
        "def performLinRegFT(dataframe):\n",
        "  featureColumns = ['PTS', 'FGA', 'REB']\n",
        "\n",
        "  X = dataframe[featureColumns]\n",
        "  Y = dataframe['FTM']\n",
        "\n",
        "  X_train, X_test, Y_train, Y_test = train_test_split(X, Y, test_size=0.25, shuffle=True)\n",
        "\n",
        "  linreg = LinearRegression()\n",
        "  linreg.fit(X_train, Y_train)\n",
        "  Y_pred = linreg.predict(X_test)\n",
        "\n",
        "  print(\"Mean Absolute Error:\", metrics.mean_absolute_error(Y_test, Y_pred))\n",
        "  print(\"Mean Squared Error:\", metrics.mean_squared_error(Y_test, Y_pred))\n",
        "  print(\"Root Mean Squared Error:\", metrics.root_mean_squared_error(Y_test, Y_pred))\n",
        "  print('----------------------------------')\n",
        "\n",
        "  # displaying coefficients for model\n",
        "  print('Coefficient Information:')\n",
        "  for i, feature in enumerate(featureColumns):\n",
        "      print(f\"{feature}: {linreg.coef_[i]}\")\n",
        "\n",
        "  return linreg\n",
        "\n",
        "ft_model = performLinRegFT(data_cleaned)"
      ],
      "metadata": {
        "colab": {
          "base_uri": "https://localhost:8080/"
        },
        "id": "GhoQgTSJt4YN",
        "outputId": "72e77875-fa04-4827-fef8-fd442d1cbde2"
      },
      "execution_count": 14,
      "outputs": [
        {
          "output_type": "stream",
          "name": "stdout",
          "text": [
            "Mean Absolute Error: 4.260292827986912\n",
            "Mean Squared Error: 28.606322231006853\n",
            "Root Mean Squared Error: 5.3484878452705535\n",
            "----------------------------------\n",
            "Coefficient Information:\n",
            "PTS: 0.20568255207320194\n",
            "FGA: -0.41395505464200727\n",
            "REB: 0.19673452552091222\n"
          ]
        }
      ]
    },
    {
      "cell_type": "markdown",
      "source": [
        "#### **Blocks**"
      ],
      "metadata": {
        "id": "JfhKbM90uI0E"
      }
    },
    {
      "cell_type": "code",
      "source": [
        "def performLinRegBL(dataframe):\n",
        "  # what factors we want to later use for our independent variables\n",
        "  featureColumns = ['REB', '+/-', 'STL']\n",
        "\n",
        "  # following yt videos\n",
        "  X = dataframe[featureColumns]\n",
        "  Y = dataframe['BLK']\n",
        "\n",
        "  # training and testing sets, maybe change test_size (look into more later on Kandell used 0.25)\n",
        "  X_train, X_test, Y_train, Y_test = train_test_split(X, Y, test_size=0.25, shuffle=True)\n",
        "\n",
        "  linreg = LinearRegression()\n",
        "  linreg.fit(X_train, Y_train)\n",
        "  Y_pred = linreg.predict(X_test)\n",
        "\n",
        "  # model performance, from Kandell\n",
        "  print(\"Mean Absolute Error:\", metrics.mean_absolute_error(Y_test, Y_pred))\n",
        "  print(\"Mean Squared Error:\", metrics.mean_squared_error(Y_test, Y_pred))\n",
        "  print(\"Root Mean Squared Error:\", metrics.root_mean_squared_error(Y_test, Y_pred))\n",
        "  print('----------------------------------')\n",
        "\n",
        "  # displaying coefficients for model\n",
        "  print('Coefficient Information:')\n",
        "  for i, feature in enumerate(featureColumns):\n",
        "      print(f\"{feature}: {linreg.coef_[i]}\")\n",
        "\n",
        "  return linreg\n",
        "\n",
        "bl_model = performLinRegBL(data_cleaned)"
      ],
      "metadata": {
        "colab": {
          "base_uri": "https://localhost:8080/"
        },
        "id": "qprbMghJt41Y",
        "outputId": "a91309ea-12df-4859-adc2-c45220426242"
      },
      "execution_count": 20,
      "outputs": [
        {
          "output_type": "stream",
          "name": "stdout",
          "text": [
            "Mean Absolute Error: 2.015882782896304\n",
            "Mean Squared Error: 6.464026648980332\n",
            "Root Mean Squared Error: 2.542445013954153\n",
            "----------------------------------\n",
            "Coefficient Information:\n",
            "REB: 0.05148981169814914\n",
            "+/-: 0.026725706114708474\n",
            "STL: -0.0009488074122541686\n"
          ]
        }
      ]
    },
    {
      "cell_type": "markdown",
      "source": [
        "#### **Field Goals Made**"
      ],
      "metadata": {
        "id": "bL-9wi43Isj_"
      }
    },
    {
      "cell_type": "code",
      "source": [
        "def performLinRegFGM(dataframe):\n",
        "  # what factors we want to later use for our independent variables\n",
        "  featureColumns = ['FGA', 'FG%', 'PTS','3PM', 'AST', 'TOV', '3P%', 'TO%']\n",
        "\n",
        "  # following yt videos\n",
        "  X = dataframe[featureColumns]\n",
        "  Y = dataframe['FGM']\n",
        "\n",
        "  # training and testing sets, maybe change test_size (look into more later on Kandell used 0.25)\n",
        "  X_train, X_test, Y_train, Y_test = train_test_split(X, Y, test_size=0.25, shuffle=True)\n",
        "\n",
        "  linreg = LinearRegression()\n",
        "  linreg.fit(X_train, Y_train)\n",
        "  Y_pred = linreg.predict(X_test)\n",
        "\n",
        "  # model performance, from Kandell\n",
        "  print(\"Mean Absolute Error:\", metrics.mean_absolute_error(Y_test, Y_pred))\n",
        "  print(\"Mean Squared Error:\", metrics.mean_squared_error(Y_test, Y_pred))\n",
        "  print(\"Root Mean Squared Error:\", metrics.root_mean_squared_error(Y_test, Y_pred))\n",
        "  print('----------------------------------')\n",
        "\n",
        "  # displaying coefficients for model\n",
        "  print('Coefficient Information:')\n",
        "  for i, feature in enumerate(featureColumns):\n",
        "      print(f\"{feature}: {linreg.coef_[i]}\")\n",
        "\n",
        "  return linreg\n",
        "\n",
        "fgm_model = performLinRegFGM(data_cleaned)"
      ],
      "metadata": {
        "colab": {
          "base_uri": "https://localhost:8080/"
        },
        "id": "LEVHBWQWIp9k",
        "outputId": "da3b0807-0db5-474a-e366-8e39de9010d6"
      },
      "execution_count": 21,
      "outputs": [
        {
          "output_type": "stream",
          "name": "stdout",
          "text": [
            "Mean Absolute Error: 0.30105190115158537\n",
            "Mean Squared Error: 0.20052118523595122\n",
            "Root Mean Squared Error: 0.44779591918188716\n",
            "----------------------------------\n",
            "Coefficient Information:\n",
            "FGA: 0.40680380845845854\n",
            "FG%: 0.8588739258606423\n",
            "PTS: 0.03738769253228191\n",
            "3PM: 0.03935723777477218\n",
            "AST: 0.007433722666306292\n",
            "TOV: -0.001905380835459075\n",
            "3P%: -0.003113437785528486\n",
            "TO%: -0.11462939903492278\n"
          ]
        }
      ]
    },
    {
      "cell_type": "markdown",
      "source": [
        "### **Converting Abreviations to Full Names**"
      ],
      "metadata": {
        "id": "CwSoyhPuuUly"
      }
    },
    {
      "cell_type": "code",
      "source": [
        "team_names = {\n",
        "  'ATL': 'Atlanta Hawks',\n",
        "  'BKN': 'Brooklyn Nets',\n",
        "  'BOS': 'Boston Celtics',\n",
        "  'CHA': 'Charlotte Hornets',\n",
        "  'CHI': 'Chicago Bulls',\n",
        "  'CLE': 'Cleveland Cavaliers',\n",
        "  'DAL': 'Dallas Mavericks',\n",
        "  'DEN': 'Denver Nuggets',\n",
        "  'DET': 'Detroit Pistons',\n",
        "  'GSW': 'Golden State Warriors',\n",
        "  'HOU': 'Houston Rockets',\n",
        "  'IND': 'Indiana Pacers',\n",
        "  'LAC': 'Los Angeles Clippers',\n",
        "  'LAL': 'Los Angeles Lakers',\n",
        "  'MEM': 'Memphis Grizzlies',\n",
        "  'MIA': 'Miami Heat',\n",
        "  'MIL': 'Milwaukee Bucks',\n",
        "  'MIN': 'Minnesota Timberwolves',\n",
        "  'NOP': 'New Orleans Pelicans',\n",
        "  'OKC': 'Oklahoma City Thunder',\n",
        "  'ORL': 'Orlando Magic',\n",
        "  'PHI': 'Philadelphia 76ers',\n",
        "  'PHX': 'Phoenix Suns',\n",
        "  'POR': 'Portland Trail Blazers',\n",
        "  'SAC': 'Sacramento Kings',\n",
        "  'SAS': 'San Antonio Spurs',\n",
        "  'TOR': 'Toronto Raptors',\n",
        "  'UTA': 'Utah Jazz',\n",
        "  'WAS': 'Washington Wizards'\n",
        "  }\n",
        "\n",
        "def get_full_team_name(team_abbreviation):\n",
        "  # abreviation -> full name\n",
        "  return team_names.get(team_abbreviation, team_abbreviation)"
      ],
      "metadata": {
        "id": "pgkdiNMtuK-M"
      },
      "execution_count": 11,
      "outputs": []
    },
    {
      "cell_type": "markdown",
      "source": [
        "### **Prediction for One Game**"
      ],
      "metadata": {
        "id": "rTRA-AKVxBZC"
      }
    },
    {
      "cell_type": "code",
      "source": [
        "def predict_game_performance(model, home_team, away_team, game_date, season, dataframe):\n",
        "  # date formatting is consistent with file\n",
        "  game_date = pd.to_datetime(game_date)\n",
        "  data_cleaned.loc[:, 'date'] = pd.to_datetime(data_cleaned['date'])\n",
        "\n",
        "  # gets stats for home team\n",
        "  game_data = dataframe[(dataframe['home'] == home_team) & (dataframe['date'] == game_date) & (dataframe['season'] == season)]\n",
        "\n",
        "  if game_data.empty:\n",
        "      print(\"No data available for the home game.\")\n",
        "      return\n",
        "\n",
        "  # Extract the feature values for the home team\n",
        "  pt_featureColumns = ['W_PCT', 'REB', 'TOV', '+/-', 'TO%', 'FTM', 'FTA', 'AST', 'BLK', 'FT%', 'FG%', 'OREB', '3PM']\n",
        "  rb_featureColumns = ['OREB', 'DREB','FG%', 'PTS', 'FT%', '+/-', 'BLK', '3P%']\n",
        "  to_featureColumns = ['AST', 'REB', '+/-', \"TO%\", \"FGA\", \"3P%\", \"STL\",\"OREB\",\"DREB\", \"FG%\", \"FT%\"]\n",
        "  as_featureColumns = ['PTS', 'FGM', 'TOV', '+/-']\n",
        "  ft_featureColumns = ['PTS', 'FGA', 'REB']\n",
        "  bl_featureColumns = ['REB', '+/-', 'STL']\n",
        "  fgm_featureColumns = ['FGA', 'FG%', 'PTS','3PM', 'AST', 'TOV', '3P%', 'TO%']\n",
        "\n",
        "\n",
        "  # predict the stats for the home team\n",
        "  pt_stats_pred = pt_model.predict(game_data[pt_featureColumns])\n",
        "  rb_stats_pred = rb_model.predict(game_data[rb_featureColumns])\n",
        "  to_stats_pred = to_model.predict(game_data[to_featureColumns])\n",
        "  as_stats_pred = as_model.predict(game_data[as_featureColumns])\n",
        "  ft_stats_pred = ft_model.predict(game_data[ft_featureColumns])\n",
        "  bl_stats_pred = bl_model.predict(game_data[bl_featureColumns])\n",
        "  fgm_stats_pred = fgm_model.predict(game_data[fgm_featureColumns])\n",
        "\n",
        "\n",
        "  # predictions for all variables\n",
        "  points_pred = pt_stats_pred[0]\n",
        "  rebounds_pred = rb_stats_pred[0]\n",
        "  turnovers_pred = to_stats_pred[0]\n",
        "  assists_pred = as_stats_pred[0]\n",
        "  free_throws_pred = ft_stats_pred[0]\n",
        "  blocks_pred = bl_stats_pred[0]\n",
        "  fgm_pred = fgm_stats_pred[0]\n",
        "\n",
        "  # Print prediction results\n",
        "  win_prob = model.coef_[0]  # Example win probability calculation; customize as needed\n",
        "  print(f'There is a {win_prob:.2f}% chance that the {get_full_team_name(home_team)} (home team) will defeat the {get_full_team_name(away_team)} (away team) by scoring {round(points_pred)} points with:')\n",
        "  print(f'- {round(rebounds_pred)} rebounds')\n",
        "  print(f'- {round(turnovers_pred)} turnovers')\n",
        "  print(f'- {round(assists_pred)} assists')\n",
        "  print(f'- {round(free_throws_pred)} free throws')\n",
        "  print(f'- {round(blocks_pred)} blocks')\n",
        "  print(f'- {round(fgm_pred)} field goals made')\n",
        "\n",
        "\n",
        "# predicting for one game\n",
        "predict_game_performance(pt_model, 'NOP', 'PHX', '2022-04-22', 2022, data_cleaned)"
      ],
      "metadata": {
        "id": "M0PxrPoqldSk",
        "colab": {
          "base_uri": "https://localhost:8080/"
        },
        "outputId": "e0c3cbac-5453-4dc2-93ad-dc8dcad7f962"
      },
      "execution_count": 22,
      "outputs": [
        {
          "output_type": "stream",
          "name": "stdout",
          "text": [
            "There is a -24.18% chance that the New Orleans Pelicans (home team) will defeat the Phoenix Suns (away team) by scoring 112 points with:\n",
            "- 45 rebounds\n",
            "- 16 turnovers\n",
            "- 23 assists\n",
            "- 22 free throws\n",
            "- 5 blocks\n",
            "- 38 field goals made\n"
          ]
        }
      ]
    }
  ]
}