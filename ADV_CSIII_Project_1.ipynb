{
  "nbformat": 4,
  "nbformat_minor": 0,
  "metadata": {
    "colab": {
      "provenance": [],
      "authorship_tag": "ABX9TyM20Ad7suwqn+k7o5QdEX8p",
      "include_colab_link": true
    },
    "kernelspec": {
      "name": "python3",
      "display_name": "Python 3"
    },
    "language_info": {
      "name": "python"
    }
  },
  "cells": [
    {
      "cell_type": "markdown",
      "metadata": {
        "id": "view-in-github",
        "colab_type": "text"
      },
      "source": [
        "<a href=\"https://colab.research.google.com/github/dani0621/ADV_CSIII_Project_1/blob/main/ADV_CSIII_Project_1.ipynb\" target=\"_parent\"><img src=\"https://colab.research.google.com/assets/colab-badge.svg\" alt=\"Open In Colab\"/></a>"
      ]
    },
    {
      "cell_type": "markdown",
      "source": [
        "# **NBA Win Prediction Model**"
      ],
      "metadata": {
        "id": "QunxSc2ZTjjI"
      }
    },
    {
      "cell_type": "markdown",
      "source": [
        "### **Imports**"
      ],
      "metadata": {
        "id": "1qzRBjVxc0Sd"
      }
    },
    {
      "cell_type": "code",
      "execution_count": null,
      "metadata": {
        "colab": {
          "base_uri": "https://localhost:8080/"
        },
        "id": "qr5cjOWDfbmW",
        "outputId": "4cfa134e-386a-48ac-fb9e-5f93286a2726"
      },
      "outputs": [
        {
          "output_type": "stream",
          "name": "stdout",
          "text": [
            "Drive already mounted at /content/drive; to attempt to forcibly remount, call drive.mount(\"/content/drive\", force_remount=True).\n"
          ]
        }
      ],
      "source": [
        "#importing files and libraries, connecting data file from Google Drive\n",
        "import pandas as pd\n",
        "import numpy as np\n",
        "import math\n",
        "\n",
        "from sklearn.model_selection import train_test_split\n",
        "from sklearn.linear_model import LinearRegression\n",
        "from sklearn import metrics\n",
        "from google.colab import files\n",
        "from google.colab import drive\n",
        "\n",
        "drive.mount(\"/content/drive\")\n",
        "data=pd.read_csv('/content/drive/My Drive/MLA/team.csv')"
      ]
    },
    {
      "cell_type": "markdown",
      "source": [
        "### **Rating and Percentage Calculations for Missing Data**"
      ],
      "metadata": {
        "id": "g65P7RuqheLH"
      }
    },
    {
      "cell_type": "code",
      "source": [
        "# Winning percentage equation from ChatGPT\n",
        "data['W_PCT'] = data.groupby('team')['win'].transform(lambda x: x.cumsum() / (x.index + 1))\n",
        "\n",
        "# True Shooting Percentage\n",
        "# to_percentage= (points[PTS] * 100)/(2*(field goal attempts[FGA] + 0.44 * Free throw attempts [fta])) from Google Search\n",
        "data['TO%'] = (data['PTS'] * 100) / (2 * (data['FGA'] + 0.44 * data['FTA']))"
      ],
      "metadata": {
        "id": "bSUTf-I_hgMv"
      },
      "execution_count": null,
      "outputs": []
    },
    {
      "cell_type": "markdown",
      "source": [
        "### **Clean Data/ Basic Analysis**"
      ],
      "metadata": {
        "id": "SYcxHls7c2Jc"
      }
    },
    {
      "cell_type": "code",
      "source": [
        "# Filter all the games played before 10/19/2018 as only the data from the past few years would be accurate in the our current win prediction model\n",
        "data_filtered = data[data['date'] >= '10/19/2018']\n",
        "\n",
        "# filters out rows that don't't have values\n",
        "data_clean = data_filtered.dropna().drop_duplicates()\n",
        "\n",
        "data_cleaned = data[['home','away', 'date', 'season', 'win', 'PTS', 'REB', 'TOV', '+/-', 'FTM', 'FTA', 'AST', 'BLK', 'TO%', 'W_PCT', 'OREB', 'DREB', 'FG%', 'FT%', '3P%', 'FGA', 'FGM', '3PM', 'STL']]"
      ],
      "metadata": {
        "id": "UHSep_L5Sj0A"
      },
      "execution_count": null,
      "outputs": []
    },
    {
      "cell_type": "markdown",
      "source": [
        "### **Logistic Regression**"
      ],
      "metadata": {
        "id": "ioSlVn6Dg2C3"
      }
    },
    {
      "cell_type": "markdown",
      "source": [
        "#### **Points**"
      ],
      "metadata": {
        "id": "kJQHU1bUtlvN"
      }
    },
    {
      "cell_type": "code",
      "source": [
        "def performLinRegPt(dataframe):\n",
        "  # factors\n",
        "  featureColumns = ['W_PCT', 'REB', 'TOV', '+/-', 'TO%', 'FTM', 'FTA', 'AST', 'BLK', 'FT%', 'FG%', 'OREB', '3PM']\n",
        "\n",
        "  X = dataframe[featureColumns]\n",
        "  Y = dataframe['PTS']\n",
        "\n",
        "  # training and testing sets\n",
        "  X_train, X_test, Y_train, Y_test = train_test_split(X, Y, test_size=0.25, shuffle=True)\n",
        "\n",
        "  linreg = LinearRegression()\n",
        "  linreg.fit(X_train, Y_train)\n",
        "  Y_pred = linreg.predict(X_test)\n",
        "\n",
        "  # model performance, accuracy, from Kandell\n",
        "  print(\"Mean Absolute Error:\", metrics.mean_absolute_error(Y_test, Y_pred))\n",
        "  print(\"Mean Squared Error:\", metrics.mean_squared_error(Y_test, Y_pred))\n",
        "  print(\"Root Mean Squared Error:\", math.sqrt(metrics.mean_squared_error(Y_test, Y_pred, squared=False)))\n",
        "  print('----------------------------------')\n",
        "\n",
        "  # displaying coefficients for model\n",
        "  print('Coefficient Information:')\n",
        "  for i, feature in enumerate(featureColumns):\n",
        "      print(f\"{feature}: {linreg.coef_[i]}\")\n",
        "\n",
        "  return linreg\n",
        "\n",
        "pt_model = performLinRegPt(data_cleaned)"
      ],
      "metadata": {
        "id": "HVPvUdRA7wK-",
        "colab": {
          "base_uri": "https://localhost:8080/"
        },
        "outputId": "0d9ad6ab-ef27-49e9-a526-c98bec7784fd"
      },
      "execution_count": null,
      "outputs": [
        {
          "output_type": "stream",
          "name": "stdout",
          "text": [
            "Mean Absolute Error: 1.9694866064656145\n",
            "Mean Squared Error: 7.226182749792908\n",
            "Root Mean Squared Error: 1.639559700931644\n",
            "----------------------------------\n",
            "Coefficient Information:\n",
            "W_PCT: -26.56581999609999\n",
            "REB: 0.11447430247621412\n",
            "TOV: -0.18162115085260372\n",
            "+/-: -0.028277590444782397\n",
            "TO%: -6.734582675716202\n",
            "FTM: 4.487266433704214\n",
            "FTA: -1.6949758467803626\n",
            "AST: 0.12114191681108055\n",
            "BLK: -0.001988501271381438\n",
            "FT%: 0.039651755502799\n",
            "FG%: 7.568073358756645\n",
            "OREB: 0.18023448402621542\n",
            "3PM: 4.733241559525466\n"
          ]
        },
        {
          "output_type": "stream",
          "name": "stderr",
          "text": [
            "/usr/local/lib/python3.10/dist-packages/sklearn/metrics/_regression.py:492: FutureWarning: 'squared' is deprecated in version 1.4 and will be removed in 1.6. To calculate the root mean squared error, use the function'root_mean_squared_error'.\n",
            "  warnings.warn(\n"
          ]
        }
      ]
    },
    {
      "cell_type": "markdown",
      "source": [
        "#### **Rebounds**"
      ],
      "metadata": {
        "id": "NTAZLu4EtvPB"
      }
    },
    {
      "cell_type": "code",
      "source": [
        "def performLinRegRB(dataframe):\n",
        "  # factors\n",
        "  featureColumns = ['OREB', 'DREB','FG%', 'PTS', 'FT%', '+/-', 'BLK', '3P%']\n",
        "\n",
        "  X = dataframe[featureColumns]\n",
        "  Y = dataframe['REB']\n",
        "\n",
        "  # training and testing sets\n",
        "  X_train, X_test, Y_train, Y_test = train_test_split(X, Y, test_size=0.25, shuffle=True)\n",
        "\n",
        "  linreg = LinearRegression()\n",
        "  linreg.fit(X_train, Y_train)\n",
        "  Y_pred = linreg.predict(X_test)\n",
        "\n",
        "  print(\"Mean Absolute Error:\", metrics.mean_absolute_error(Y_test, Y_pred))\n",
        "  print(\"Mean Squared Error:\", metrics.mean_squared_error(Y_test, Y_pred))\n",
        "  print(\"Root Mean Squared Error:\", math.sqrt(metrics.mean_squared_error(Y_test, Y_pred, squared=False)))\n",
        "  print('----------------------------------')\n",
        "\n",
        "  print('Coefficient Information:')\n",
        "  for i, feature in enumerate(featureColumns):\n",
        "      print(f\"{feature}: {linreg.coef_[i]}\")\n",
        "\n",
        "  return linreg\n",
        "\n",
        "rb_model = performLinRegRB(data_cleaned)"
      ],
      "metadata": {
        "colab": {
          "base_uri": "https://localhost:8080/"
        },
        "id": "8ZIlN0JstkRN",
        "outputId": "8685bc38-dd9e-49d3-a37f-cc24f08c77dc"
      },
      "execution_count": null,
      "outputs": [
        {
          "output_type": "stream",
          "name": "stdout",
          "text": [
            "Mean Absolute Error: 8.132928903595494e-15\n",
            "Mean Squared Error: 1.1086851835089736e-28\n",
            "Root Mean Squared Error: 1.0261292346009266e-07\n",
            "----------------------------------\n",
            "Coefficient Information:\n",
            "OREB: 0.9999999999999998\n",
            "DREB: 1.0\n",
            "FG%: 4.440892098500626e-16\n",
            "PTS: 4.440892098500626e-16\n",
            "FT%: 0.0\n",
            "+/-: 2.498001805406602e-16\n",
            "BLK: 2.740863092043355e-16\n",
            "3P%: -3.3306690738754696e-16\n"
          ]
        },
        {
          "output_type": "stream",
          "name": "stderr",
          "text": [
            "/usr/local/lib/python3.10/dist-packages/sklearn/metrics/_regression.py:492: FutureWarning: 'squared' is deprecated in version 1.4 and will be removed in 1.6. To calculate the root mean squared error, use the function'root_mean_squared_error'.\n",
            "  warnings.warn(\n"
          ]
        }
      ]
    },
    {
      "cell_type": "markdown",
      "source": [
        "#### **Turnovers**"
      ],
      "metadata": {
        "id": "OAu1mE9lt_sL"
      }
    },
    {
      "cell_type": "code",
      "source": [
        "def performLinRegTO(dataframe):\n",
        "  featureColumns = ['AST', 'REB', '+/-', \"TO%\", \"FGA\", \"3P%\", \"STL\",\"OREB\",\"DREB\", \"FG%\", \"FT%\"]\n",
        "\n",
        "  X = dataframe[featureColumns]\n",
        "  Y = dataframe['TOV']\n",
        "\n",
        "  X_train, X_test, Y_train, Y_test = train_test_split(X, Y, test_size=0.25, shuffle=True)\n",
        "\n",
        "  linreg = LinearRegression()\n",
        "  linreg.fit(X_train, Y_train)\n",
        "  Y_pred = linreg.predict(X_test)\n",
        "\n",
        "  print(\"Mean Absolute Error:\", metrics.mean_absolute_error(Y_test, Y_pred))\n",
        "  print(\"Mean Squared Error:\", metrics.mean_squared_error(Y_test, Y_pred))\n",
        "  print(\"Root Mean Squared Error:\", math.sqrt(metrics.mean_squared_error(Y_test, Y_pred, squared=False)))\n",
        "  print('----------------------------------')\n",
        "\n",
        "  print('Coefficient Information:')\n",
        "  for i, feature in enumerate(featureColumns):\n",
        "      print(f\"{feature}: {linreg.coef_[i]}\")\n",
        "\n",
        "  return linreg\n",
        "\n",
        "to_model = performLinRegTO(data_cleaned)"
      ],
      "metadata": {
        "colab": {
          "base_uri": "https://localhost:8080/"
        },
        "id": "XvcLfQBVt3Xr",
        "outputId": "8f657b26-7aae-4a63-97a2-7f2582af5c93"
      },
      "execution_count": null,
      "outputs": [
        {
          "output_type": "stream",
          "name": "stdout",
          "text": [
            "Mean Absolute Error: 2.4568638351909593\n",
            "Mean Squared Error: 9.549301324388455\n",
            "Root Mean Squared Error: 1.7578948725522772\n",
            "----------------------------------\n",
            "Coefficient Information:\n",
            "AST: 0.0639563501029985\n",
            "REB: 0.29002042095940206\n",
            "+/-: -0.19344590235524883\n",
            "TO%: 0.04742978859725357\n",
            "FGA: -0.3091348557711949\n",
            "3P%: 0.0251431156745522\n",
            "STL: 0.4724445523616996\n",
            "OREB: 0.1787379280889\n",
            "DREB: 0.111282492870502\n",
            "FG%: 0.19326233784235783\n",
            "FT%: 0.027296918043249196\n"
          ]
        },
        {
          "output_type": "stream",
          "name": "stderr",
          "text": [
            "/usr/local/lib/python3.10/dist-packages/sklearn/metrics/_regression.py:492: FutureWarning: 'squared' is deprecated in version 1.4 and will be removed in 1.6. To calculate the root mean squared error, use the function'root_mean_squared_error'.\n",
            "  warnings.warn(\n"
          ]
        }
      ]
    },
    {
      "cell_type": "markdown",
      "source": [
        "#### **Assists**"
      ],
      "metadata": {
        "id": "EvYdPE6AuCbs"
      }
    },
    {
      "cell_type": "code",
      "source": [
        "def performLinRegAS(dataframe):\n",
        "  featureColumns = ['PTS', 'FGM', 'TOV', '+/-']\n",
        "\n",
        "  X = dataframe[featureColumns]\n",
        "  Y = dataframe['AST']\n",
        "\n",
        "  X_train, X_test, Y_train, Y_test = train_test_split(X, Y, test_size=0.25, shuffle=True)\n",
        "\n",
        "  linreg = LinearRegression()\n",
        "  linreg.fit(X_train, Y_train)\n",
        "  Y_pred = linreg.predict(X_test)\n",
        "\n",
        "  print(\"Mean Absolute Error:\", metrics.mean_absolute_error(Y_test, Y_pred))\n",
        "  print(\"Mean Squared Error:\", metrics.mean_squared_error(Y_test, Y_pred))\n",
        "  print(\"Root Mean Squared Error:\", math.sqrt(metrics.mean_squared_error(Y_test, Y_pred, squared=False)))\n",
        "  print('----------------------------------')\n",
        "\n",
        "  print('Coefficient Information:')\n",
        "  for i, feature in enumerate(featureColumns):\n",
        "      print(f\"{feature}: {linreg.coef_[i]}\")\n",
        "\n",
        "  return linreg\n",
        "\n",
        "as_model = performLinRegAS(data_cleaned)"
      ],
      "metadata": {
        "colab": {
          "base_uri": "https://localhost:8080/"
        },
        "id": "IT-otkibt4Ag",
        "outputId": "aa47a252-1df8-4910-a49f-17e68cd0e34c"
      },
      "execution_count": null,
      "outputs": [
        {
          "output_type": "stream",
          "name": "stdout",
          "text": [
            "Mean Absolute Error: 3.1217209055580817\n",
            "Mean Squared Error: 15.266196798596722\n",
            "Root Mean Squared Error: 1.9766633692078237\n",
            "----------------------------------\n",
            "Coefficient Information:\n",
            "PTS: 0.032763760483376925\n",
            "FGM: 0.528489924959131\n",
            "TOV: 0.07485074707948804\n",
            "+/-: 0.04500341384662948\n"
          ]
        },
        {
          "output_type": "stream",
          "name": "stderr",
          "text": [
            "/usr/local/lib/python3.10/dist-packages/sklearn/metrics/_regression.py:492: FutureWarning: 'squared' is deprecated in version 1.4 and will be removed in 1.6. To calculate the root mean squared error, use the function'root_mean_squared_error'.\n",
            "  warnings.warn(\n"
          ]
        }
      ]
    },
    {
      "cell_type": "markdown",
      "source": [
        "#### **Free Throws**"
      ],
      "metadata": {
        "id": "Kpm8BHZDuFlz"
      }
    },
    {
      "cell_type": "code",
      "source": [
        "def performLinRegFT(dataframe):\n",
        "  featureColumns = ['PTS', 'FGA', 'REB']\n",
        "\n",
        "  X = dataframe[featureColumns]\n",
        "  Y = dataframe['FTM']\n",
        "\n",
        "  X_train, X_test, Y_train, Y_test = train_test_split(X, Y, test_size=0.25, shuffle=True)\n",
        "\n",
        "  linreg = LinearRegression()\n",
        "  linreg.fit(X_train, Y_train)\n",
        "  Y_pred = linreg.predict(X_test)\n",
        "\n",
        "  print(\"Mean Absolute Error:\", metrics.mean_absolute_error(Y_test, Y_pred))\n",
        "  print(\"Mean Squared Error:\", metrics.mean_squared_error(Y_test, Y_pred))\n",
        "  print(\"Root Mean Squared Error:\", math.sqrt(metrics.mean_squared_error(Y_test, Y_pred, squared=False)))\n",
        "  print('----------------------------------')\n",
        "\n",
        "  # displaying coefficients for model\n",
        "  print('Coefficient Information:')\n",
        "  for i, feature in enumerate(featureColumns):\n",
        "      print(f\"{feature}: {linreg.coef_[i]}\")\n",
        "\n",
        "  return linreg\n",
        "\n",
        "ft_model = performLinRegFT(data_cleaned)"
      ],
      "metadata": {
        "colab": {
          "base_uri": "https://localhost:8080/"
        },
        "id": "GhoQgTSJt4YN",
        "outputId": "6c9001ef-731d-445f-b04f-0e952c3c095d"
      },
      "execution_count": null,
      "outputs": [
        {
          "output_type": "stream",
          "name": "stdout",
          "text": [
            "Mean Absolute Error: 4.267834342243429\n",
            "Mean Squared Error: 28.65818302009757\n",
            "Root Mean Squared Error: 2.3137272576871877\n",
            "----------------------------------\n",
            "Coefficient Information:\n",
            "PTS: 0.20486670513056385\n",
            "FGA: -0.4088233617984033\n",
            "REB: 0.19749896637549946\n"
          ]
        },
        {
          "output_type": "stream",
          "name": "stderr",
          "text": [
            "/usr/local/lib/python3.10/dist-packages/sklearn/metrics/_regression.py:492: FutureWarning: 'squared' is deprecated in version 1.4 and will be removed in 1.6. To calculate the root mean squared error, use the function'root_mean_squared_error'.\n",
            "  warnings.warn(\n"
          ]
        }
      ]
    },
    {
      "cell_type": "markdown",
      "source": [
        "#### **Blocks**"
      ],
      "metadata": {
        "id": "JfhKbM90uI0E"
      }
    },
    {
      "cell_type": "code",
      "source": [
        "def performLinRegBL(dataframe):\n",
        "  # what factors we want to later use for our independent variables\n",
        "  featureColumns = ['REB', '+/-', 'STL']\n",
        "\n",
        "  # following yt videos\n",
        "  X = dataframe[featureColumns]\n",
        "  Y = dataframe['BLK']\n",
        "\n",
        "  # training and testing sets, maybe change test_size (look into more later on Kandell used 0.25)\n",
        "  X_train, X_test, Y_train, Y_test = train_test_split(X, Y, test_size=0.25, shuffle=True)\n",
        "\n",
        "  linreg = LinearRegression()\n",
        "  linreg.fit(X_train, Y_train)\n",
        "  Y_pred = linreg.predict(X_test)\n",
        "\n",
        "  # model performance, from Kandell\n",
        "  print(\"Mean Absolute Error:\", metrics.mean_absolute_error(Y_test, Y_pred))\n",
        "  print(\"Mean Squared Error:\", metrics.mean_squared_error(Y_test, Y_pred))\n",
        "  print(\"Root Mean Squared Error:\", math.sqrt(metrics.mean_squared_error(Y_test, Y_pred, squared=False)))\n",
        "  print('----------------------------------')\n",
        "\n",
        "  # displaying coefficients for model\n",
        "  print('Coefficient Information:')\n",
        "  for i, feature in enumerate(featureColumns):\n",
        "      print(f\"{feature}: {linreg.coef_[i]}\")\n",
        "\n",
        "  return linreg\n",
        "\n",
        "bl_model = performLinRegBL(data_cleaned)"
      ],
      "metadata": {
        "colab": {
          "base_uri": "https://localhost:8080/"
        },
        "id": "qprbMghJt41Y",
        "outputId": "1433afea-3c1e-473e-f728-e1218fc7472a"
      },
      "execution_count": null,
      "outputs": [
        {
          "output_type": "stream",
          "name": "stdout",
          "text": [
            "Mean Absolute Error: 1.9902134802171443\n",
            "Mean Squared Error:"
          ]
        },
        {
          "output_type": "stream",
          "name": "stderr",
          "text": [
            "/usr/local/lib/python3.10/dist-packages/sklearn/metrics/_regression.py:492: FutureWarning: 'squared' is deprecated in version 1.4 and will be removed in 1.6. To calculate the root mean squared error, use the function'root_mean_squared_error'.\n",
            "  warnings.warn(\n"
          ]
        },
        {
          "output_type": "stream",
          "name": "stdout",
          "text": [
            " 6.295964301232655\n",
            "Root Mean Squared Error: 1.58403788476682\n",
            "----------------------------------\n",
            "Coefficient Information:\n",
            "REB: 0.05048240896019663\n",
            "+/-: 0.026235907444745236\n",
            "STL: 0.001180427792089559\n"
          ]
        }
      ]
    },
    {
      "cell_type": "markdown",
      "source": [
        "#### **Field Goals Made**"
      ],
      "metadata": {
        "id": "bL-9wi43Isj_"
      }
    },
    {
      "cell_type": "code",
      "source": [
        "def performLinRegFGM(dataframe):\n",
        "  # what factors we want to later use for our independent variables\n",
        "  featureColumns = ['FGA', 'FG%', 'PTS','3PM', 'AST', 'TOV', '3P%', 'TO%']\n",
        "\n",
        "  # following yt videos\n",
        "  X = dataframe[featureColumns]\n",
        "  Y = dataframe['FGM']\n",
        "\n",
        "  # training and testing sets, maybe change test_size (look into more later on Kandell used 0.25)\n",
        "  X_train, X_test, Y_train, Y_test = train_test_split(X, Y, test_size=0.25, shuffle=True)\n",
        "\n",
        "  linreg = LinearRegression()\n",
        "  linreg.fit(X_train, Y_train)\n",
        "  Y_pred = linreg.predict(X_test)\n",
        "\n",
        "  # model performance, from Kandell\n",
        "  print(\"Mean Absolute Error:\", metrics.mean_absolute_error(Y_test, Y_pred))\n",
        "  print(\"Mean Squared Error:\", metrics.mean_squared_error(Y_test, Y_pred))\n",
        "  print(\"Root Mean Squared Error:\", math.sqrt(metrics.mean_squared_error(Y_test, Y_pred, squared=False)))\n",
        "  print('----------------------------------')\n",
        "\n",
        "  # displaying coefficients for model\n",
        "  print('Coefficient Information:')\n",
        "  for i, feature in enumerate(featureColumns):\n",
        "      print(f\"{feature}: {linreg.coef_[i]}\")\n",
        "\n",
        "  return linreg\n",
        "\n",
        "fgm_model = performLinRegFGM(data_cleaned)"
      ],
      "metadata": {
        "colab": {
          "base_uri": "https://localhost:8080/"
        },
        "id": "LEVHBWQWIp9k",
        "outputId": "cab641ef-6506-4e03-ce42-8fabce36c4d9"
      },
      "execution_count": null,
      "outputs": [
        {
          "output_type": "stream",
          "name": "stdout",
          "text": [
            "Mean Absolute Error: 0.2991662873696996\n",
            "Mean Squared Error: 0.1994160888607083\n",
            "Root Mean Squared Error: 0.6682516635278658\n",
            "----------------------------------\n",
            "Coefficient Information:\n",
            "FGA: 0.4078153224448956\n",
            "FG%: 0.8573171096377035\n",
            "PTS: 0.036553610777032675\n",
            "3PM: 0.03846238592692139\n",
            "AST: 0.0075380392795171\n",
            "TOV: -0.0014299489253606357\n",
            "3P%: -0.0032999150100185837\n",
            "TO%: -0.11158685892225895\n"
          ]
        },
        {
          "output_type": "stream",
          "name": "stderr",
          "text": [
            "/usr/local/lib/python3.10/dist-packages/sklearn/metrics/_regression.py:492: FutureWarning: 'squared' is deprecated in version 1.4 and will be removed in 1.6. To calculate the root mean squared error, use the function'root_mean_squared_error'.\n",
            "  warnings.warn(\n"
          ]
        }
      ]
    },
    {
      "cell_type": "markdown",
      "source": [
        "### **Converting Abreviations to Full Names**"
      ],
      "metadata": {
        "id": "CwSoyhPuuUly"
      }
    },
    {
      "cell_type": "code",
      "source": [
        "team_names = {\n",
        "  'ATL': 'Atlanta Hawks',\n",
        "  'BKN': 'Brooklyn Nets',\n",
        "  'BOS': 'Boston Celtics',\n",
        "  'CHA': 'Charlotte Hornets',\n",
        "  'CHI': 'Chicago Bulls',\n",
        "  'CLE': 'Cleveland Cavaliers',\n",
        "  'DAL': 'Dallas Mavericks',\n",
        "  'DEN': 'Denver Nuggets',\n",
        "  'DET': 'Detroit Pistons',\n",
        "  'GSW': 'Golden State Warriors',\n",
        "  'HOU': 'Houston Rockets',\n",
        "  'IND': 'Indiana Pacers',\n",
        "  'LAC': 'Los Angeles Clippers',\n",
        "  'LAL': 'Los Angeles Lakers',\n",
        "  'MEM': 'Memphis Grizzlies',\n",
        "  'MIA': 'Miami Heat',\n",
        "  'MIL': 'Milwaukee Bucks',\n",
        "  'MIN': 'Minnesota Timberwolves',\n",
        "  'NOP': 'New Orleans Pelicans',\n",
        "  'OKC': 'Oklahoma City Thunder',\n",
        "  'ORL': 'Orlando Magic',\n",
        "  'PHI': 'Philadelphia 76ers',\n",
        "  'PHX': 'Phoenix Suns',\n",
        "  'POR': 'Portland Trail Blazers',\n",
        "  'SAC': 'Sacramento Kings',\n",
        "  'SAS': 'San Antonio Spurs',\n",
        "  'TOR': 'Toronto Raptors',\n",
        "  'UTA': 'Utah Jazz',\n",
        "  'WAS': 'Washington Wizards'\n",
        "  }\n",
        "\n",
        "def get_full_team_name(team_abbreviation):\n",
        "  # abreviation -> full name\n",
        "  return team_names.get(team_abbreviation, team_abbreviation)"
      ],
      "metadata": {
        "id": "pgkdiNMtuK-M"
      },
      "execution_count": null,
      "outputs": []
    },
    {
      "cell_type": "markdown",
      "source": [
        "### **Prediction for One Game**"
      ],
      "metadata": {
        "id": "rTRA-AKVxBZC"
      }
    },
    {
      "cell_type": "code",
      "source": [
        "def predict_game_performance(model, home_team, away_team, game_date, season, dataframe):\n",
        "  # date formatting is consistent with file\n",
        "  game_date = pd.to_datetime(game_date)\n",
        "  data_cleaned.loc[:, 'date'] = pd.to_datetime(data_cleaned['date'])\n",
        "\n",
        "  # gets stats for home team\n",
        "  game_data = dataframe[(dataframe['home'] == home_team) & (dataframe['date'] == game_date) & (dataframe['season'] == season)]\n",
        "\n",
        "  if game_data.empty:\n",
        "      print(\"No data available for the home game.\")\n",
        "      return\n",
        "\n",
        "  # Extract the feature values for the home team\n",
        "  pt_featureColumns = ['W_PCT', 'REB', 'TOV', '+/-', 'TO%', 'FTM', 'FTA', 'AST', 'BLK', 'FT%', 'FG%', 'OREB', '3PM']\n",
        "  rb_featureColumns = ['OREB', 'DREB','FG%', 'PTS', 'FT%', '+/-', 'BLK', '3P%']\n",
        "  to_featureColumns = ['AST', 'REB', '+/-', \"TO%\", \"FGA\", \"3P%\", \"STL\",\"OREB\",\"DREB\", \"FG%\", \"FT%\"]\n",
        "  as_featureColumns = ['PTS', 'FGM', 'TOV', '+/-']\n",
        "  ft_featureColumns = ['PTS', 'FGA', 'REB']\n",
        "  bl_featureColumns = ['REB', '+/-', 'STL']\n",
        "  fgm_featureColumns = ['FGA', 'FG%', 'PTS','3PM', 'AST', 'TOV', '3P%', 'TO%']\n",
        "\n",
        "\n",
        "  # predict the stats for the home team\n",
        "  pt_stats_pred = pt_model.predict(game_data[pt_featureColumns])\n",
        "  rb_stats_pred = rb_model.predict(game_data[rb_featureColumns])\n",
        "  to_stats_pred = to_model.predict(game_data[to_featureColumns])\n",
        "  as_stats_pred = as_model.predict(game_data[as_featureColumns])\n",
        "  ft_stats_pred = ft_model.predict(game_data[ft_featureColumns])\n",
        "  bl_stats_pred = bl_model.predict(game_data[bl_featureColumns])\n",
        "  fgm_stats_pred = fgm_model.predict(game_data[fgm_featureColumns])\n",
        "\n",
        "\n",
        "  # predictions for all variables\n",
        "  points_pred = pt_stats_pred[0]\n",
        "  rebounds_pred = rb_stats_pred[0]\n",
        "  turnovers_pred = to_stats_pred[0]\n",
        "  assists_pred = as_stats_pred[0]\n",
        "  free_throws_pred = ft_stats_pred[0]\n",
        "  blocks_pred = bl_stats_pred[0]\n",
        "  fgm_pred = fgm_stats_pred[0]\n",
        "\n",
        "  # Print prediction results\n",
        "  win_prob = model.coef_[0]  # Example win probability calculation; customize as needed\n",
        "  print(f'There is a {win_prob:.2f}% chance that the {get_full_team_name(home_team)} (home team) will defeat the {get_full_team_name(away_team)} (away team) by scoring {round(points_pred)} points with:')\n",
        "  print(f'- {round(rebounds_pred)} rebounds')\n",
        "  print(f'- {round(turnovers_pred)} turnovers')\n",
        "  print(f'- {round(assists_pred)} assists')\n",
        "  print(f'- {round(free_throws_pred)} free throws')\n",
        "  print(f'- {round(blocks_pred)} blocks')\n",
        "  print(f'- {round(fgm_pred)} field goals made')\n",
        "\n",
        "\n",
        "# predicting for one game\n",
        "predict_game_performance(pt_model, 'NOP', 'PHX', '2022-04-22', 2022, data_cleaned)"
      ],
      "metadata": {
        "id": "M0PxrPoqldSk",
        "colab": {
          "base_uri": "https://localhost:8080/"
        },
        "outputId": "b3d05c43-2d50-4dd2-e12f-27109dd6323f"
      },
      "execution_count": 139,
      "outputs": [
        {
          "output_type": "stream",
          "name": "stdout",
          "text": [
            "There is a -26.57% chance that the New Orleans Pelicans (home team) will defeat the Phoenix Suns (away team) by scoring 112 points with:\n",
            "- 45 rebounds\n",
            "- 16 turnovers\n",
            "- 23 assists\n",
            "- 22 free throws\n",
            "- 5 blocks\n",
            "- 38 field goals made\n"
          ]
        }
      ]
    }
  ]
}