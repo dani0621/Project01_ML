{
  "nbformat": 4,
  "nbformat_minor": 0,
  "metadata": {
    "colab": {
      "provenance": [],
      "collapsed_sections": [
        "CwSoyhPuuUly"
      ],
      "authorship_tag": "ABX9TyN6ZdVg4A+EfWmS5iXGCOjF"
    },
    "kernelspec": {
      "name": "python3",
      "display_name": "Python 3"
    },
    "language_info": {
      "name": "python"
    }
  },
  "cells": [
    {
      "cell_type": "markdown",
      "source": [
        "# **NBA Win Prediction Model**"
      ],
      "metadata": {
        "id": "QunxSc2ZTjjI"
      }
    },
    {
      "cell_type": "markdown",
      "source": [
        "### **Imports**"
      ],
      "metadata": {
        "id": "1qzRBjVxc0Sd"
      }
    },
    {
      "cell_type": "code",
      "execution_count": 158,
      "metadata": {
        "colab": {
          "base_uri": "https://localhost:8080/"
        },
        "id": "qr5cjOWDfbmW",
        "outputId": "115e1ceb-17aa-4a0b-c05f-1369d224aae3"
      },
      "outputs": [
        {
          "output_type": "stream",
          "name": "stdout",
          "text": [
            "Drive already mounted at /content/drive; to attempt to forcibly remount, call drive.mount(\"/content/drive\", force_remount=True).\n"
          ]
        }
      ],
      "source": [
        "# importing files and libraries, connecting data file from Google Drive\n",
        "import pandas as pd\n",
        "import numpy as np\n",
        "import math\n",
        "\n",
        "from sklearn.model_selection import train_test_split\n",
        "from sklearn.linear_model import LinearRegression\n",
        "from sklearn.metrics import r2_score\n",
        "from sklearn import metrics\n",
        "from google.colab import files\n",
        "from google.colab import drive\n",
        "\n",
        "drive.mount(\"/content/drive\")\n",
        "data=pd.read_csv('/content/drive/My Drive/MLA/team.csv')"
      ]
    },
    {
      "cell_type": "markdown",
      "source": [
        "### **Rating and Percentage Calculations for Missing Data**"
      ],
      "metadata": {
        "id": "g65P7RuqheLH"
      }
    },
    {
      "cell_type": "code",
      "source": [
        "# Winning percentage equation from ChatGPT. NBA winning percentages require point differential which is a statistic I don't have. I asked ChatGPT for other ways of calculating win percentages and this was the one it gave me:\n",
        "data['W%'] = data.groupby('team')['win'].transform(lambda x: x.cumsum() / (x.index + 1))\n",
        "\n",
        "# True Shooting Percentage (gotten from Google, looked up calculation formula for true shotting percentage nba)\n",
        "# to_percentage= (points[PTS] * 100)/(2*(field goal attempts[FGA] + 0.44 * Free throw attempts [fta]))\n",
        "data['TO%'] = (data['PTS'] * 100) / (2 * (data['FGA'] + 0.44 * data['FTA']))"
      ],
      "metadata": {
        "id": "bSUTf-I_hgMv"
      },
      "execution_count": 159,
      "outputs": []
    },
    {
      "cell_type": "markdown",
      "source": [
        "### **Clean Data/ Basic Analysis**"
      ],
      "metadata": {
        "id": "SYcxHls7c2Jc"
      }
    },
    {
      "cell_type": "code",
      "source": [
        "# Filter all the games played before 10/19/2018 as only the data from the past few years would be accurate in the our current win prediction model\n",
        "data_filtered = data[data['date'] >= '10/19/2018']\n",
        "\n",
        "# filters out rows that don't have values\n",
        "data_clean = data_filtered.dropna().drop_duplicates()\n",
        "\n",
        "data_cleaned = data[['home','away', 'date', 'team','season', 'win', 'PTS', 'REB', 'TOV', '+/-', 'FTM', 'FTA', 'AST', 'BLK', 'TO%', 'W%', 'OREB', 'DREB', 'FG%', 'FT%', '3P%', 'FGA', 'FGM', '3PM', 'STL']]"
      ],
      "metadata": {
        "id": "UHSep_L5Sj0A"
      },
      "execution_count": 160,
      "outputs": []
    },
    {
      "cell_type": "markdown",
      "source": [
        "### **Logistic Regressions**"
      ],
      "metadata": {
        "id": "ioSlVn6Dg2C3"
      }
    },
    {
      "cell_type": "markdown",
      "source": [
        "#### **Points**"
      ],
      "metadata": {
        "id": "kJQHU1bUtlvN"
      }
    },
    {
      "cell_type": "code",
      "source": [
        "# All of the rest of the logistic regressions were copied from this model (all AI used here for debugging/ errors/corrections applies to the following logsitic regressions as well)\n",
        "# performLinRegPt creates the model that predicts the number of points the home team will , most of this model was from YT videos that are documented in the README.\n",
        "def performLinRegPTS(dataframe):\n",
        "  # factors\n",
        "  featureColumns = ['W%', 'REB', 'TOV', '+/-', 'TO%', 'FTM', 'FTA', 'AST', 'BLK', 'FT%', 'FG%', 'OREB', '3PM'] #There were bugs with this that I used Gemini to resolve (forgot to include those columns in my data_cleaned so the columns didn't match up and resulted in an error).\n",
        "\n",
        "\n",
        "  X = dataframe[featureColumns]\n",
        "  Y = dataframe['PTS']\n",
        "\n",
        "  # training and testing sets\n",
        "  X_train, X_test, Y_train, Y_test = train_test_split(X, Y, test_size=0.25, shuffle=True)\n",
        "\n",
        "  linreg = LinearRegression()\n",
        "  linreg.fit(X_train, Y_train)\n",
        "  Y_pred = linreg.predict(X_test)\n",
        "\n",
        "  r2 = r2_score(Y_test, Y_pred) # originally used \"sklearn.metrics import accuracy score\" but since my data is continuous, this had a bug and when I asked Gemini, this was the solution that was provided\n",
        "  global global_r2_pts # made global in order to access in print statement later\n",
        "  global_r2_pts = r2\n",
        "\n",
        "  # model performance, accuracy, from Jake Kandell's NBA Predictor that is cited in the README\n",
        "  print(\"Mean Absolute Error:\", metrics.mean_absolute_error(Y_test, Y_pred))\n",
        "  print(\"Mean Squared Error:\", metrics.mean_squared_error(Y_test, Y_pred))\n",
        "  print(\"Root Mean Squared Error:\", metrics.root_mean_squared_error(Y_test, Y_pred)) # used Gemini to correct this, originally had an error with the metrics function (the funcion name was going to be changed in the future so it had a warning sign)\n",
        "  print(f\"R-squared: {global_r2_pts}\")\n",
        "  print('----------------------------------')\n",
        "\n",
        "  # coefficients of factors within the multiple variable linear regression line, also from Jake Kandell's NBA Predictor\n",
        "  print('Coefficient Information:')\n",
        "  for i, feature in enumerate(featureColumns):\n",
        "      print(f\"{feature}: {linreg.coef_[i]}\")\n",
        "\n",
        "  return linreg\n",
        "\n",
        "pt_model = performLinRegPTS(data_cleaned)"
      ],
      "metadata": {
        "id": "HVPvUdRA7wK-",
        "colab": {
          "base_uri": "https://localhost:8080/"
        },
        "outputId": "a12b9ed7-1ac6-4c56-bdac-1d396b907ca8"
      },
      "execution_count": 161,
      "outputs": [
        {
          "output_type": "stream",
          "name": "stdout",
          "text": [
            "Mean Absolute Error: 1.991868660007046\n",
            "Mean Squared Error: 7.429952553828521\n",
            "Root Mean Squared Error: 2.7257939309178383\n",
            "R-squared: 0.9612611450169131\n",
            "----------------------------------\n",
            "Coefficient Information:\n",
            "W%: -27.763043366327004\n",
            "REB: 0.11697367150072535\n",
            "TOV: -0.1845892691784624\n",
            "+/-: -0.028338440218161537\n",
            "TO%: -6.74080976190184\n",
            "FTM: 4.4942398474600385\n",
            "FTA: -1.7006522446853554\n",
            "AST: 0.12049146502513519\n",
            "BLK: -0.005637837121105851\n",
            "FT%: 0.038125184348454\n",
            "FG%: 7.576765051498671\n",
            "OREB: 0.18053720400778508\n",
            "3PM: 4.737233900283252\n"
          ]
        }
      ]
    },
    {
      "cell_type": "markdown",
      "source": [
        "#### **Rebounds**"
      ],
      "metadata": {
        "id": "NTAZLu4EtvPB"
      }
    },
    {
      "cell_type": "code",
      "source": [
        "# performLinRegRB creates the model that predicts the number of rebounds the home team will make\n",
        "def performLinRegRB(dataframe):\n",
        "  # factors\n",
        "  featureColumns = ['OREB', 'DREB','FG%', 'PTS', 'FT%', '+/-', 'BLK', '3P%']\n",
        "\n",
        "  X = dataframe[featureColumns]\n",
        "  Y = dataframe['REB']\n",
        "\n",
        "  # training and testing sets\n",
        "  X_train, X_test, Y_train, Y_test = train_test_split(X, Y, test_size=0.25, shuffle=True)\n",
        "\n",
        "  linreg = LinearRegression()\n",
        "  linreg.fit(X_train, Y_train)\n",
        "  Y_pred = linreg.predict(X_test)\n",
        "  r2 = r2_score(Y_test, Y_pred)\n",
        "  global global_r2_rb\n",
        "  global_r2_rb = r2\n",
        "\n",
        "  # model performance, accuracy\n",
        "  print(\"Mean Absolute Error:\", metrics.mean_absolute_error(Y_test, Y_pred))\n",
        "  print(\"Mean Squared Error:\", metrics.mean_squared_error(Y_test, Y_pred))\n",
        "  print(\"Root Mean Squared Error:\", metrics.root_mean_squared_error(Y_test, Y_pred))\n",
        "  print(f\"R-squared: {global_r2_rb}\")\n",
        "  print('----------------------------------')\n",
        "\n",
        "  # coefficients of factors within the multiple variable linear regression line\n",
        "  print('Coefficient Information:')\n",
        "  for i, feature in enumerate(featureColumns):\n",
        "      print(f\"{feature}: {linreg.coef_[i]}\")\n",
        "\n",
        "  return linreg\n",
        "\n",
        "rb_model = performLinRegRB(data_cleaned)"
      ],
      "metadata": {
        "colab": {
          "base_uri": "https://localhost:8080/"
        },
        "id": "8ZIlN0JstkRN",
        "outputId": "a825c9f2-313b-4dc5-90a3-6f1e97552ae0"
      },
      "execution_count": 162,
      "outputs": [
        {
          "output_type": "stream",
          "name": "stdout",
          "text": [
            "Mean Absolute Error: 6.125425883075842e-15\n",
            "Mean Squared Error: 6.478827230644794e-29\n",
            "Root Mean Squared Error: 8.04911624381509e-15\n",
            "R-squared: 1.0\n",
            "----------------------------------\n",
            "Coefficient Information:\n",
            "OREB: 1.0000000000000007\n",
            "DREB: 0.9999999999999991\n",
            "FG%: 7.771561172376096e-16\n",
            "PTS: -3.3306690738754696e-16\n",
            "FT%: -1.6653345369377348e-16\n",
            "+/-: 1.3877787807814457e-16\n",
            "BLK: -6.245004513516506e-17\n",
            "3P%: 1.1102230246251565e-16\n"
          ]
        }
      ]
    },
    {
      "cell_type": "markdown",
      "source": [
        "#### **Turnovers**"
      ],
      "metadata": {
        "id": "OAu1mE9lt_sL"
      }
    },
    {
      "cell_type": "code",
      "source": [
        "# performLinRegTO creates the model that predicts the number of turnovers the home team will make\n",
        "def performLinRegTO(dataframe):\n",
        "  # factors\n",
        "  featureColumns = ['AST', 'REB', '+/-', \"TO%\", \"FGA\", \"3P%\", \"STL\",\"OREB\",\"DREB\", \"FG%\", \"FT%\"]\n",
        "\n",
        "  X = dataframe[featureColumns]\n",
        "  Y = dataframe['TOV']\n",
        "\n",
        "  #  training and testing sets\n",
        "  X_train, X_test, Y_train, Y_test = train_test_split(X, Y, test_size=0.25, shuffle=True)\n",
        "\n",
        "  linreg = LinearRegression()\n",
        "  linreg.fit(X_train, Y_train)\n",
        "  Y_pred = linreg.predict(X_test)\n",
        "  r2 = r2_score(Y_test, Y_pred)\n",
        "  global global_r2_to\n",
        "  global_r2_to = r2\n",
        "\n",
        "  # model performance, accuracy\n",
        "  print(\"Mean Absolute Error:\", metrics.mean_absolute_error(Y_test, Y_pred))\n",
        "  print(\"Mean Squared Error:\", metrics.mean_squared_error(Y_test, Y_pred))\n",
        "  print(\"Root Mean Squared Error:\", metrics.root_mean_squared_error(Y_test, Y_pred))\n",
        "  print(f\"R-squared: {global_r2_to}\")\n",
        "  print('----------------------------------')\n",
        "\n",
        "  # coefficients of factors within the multiple variable linear regression line\n",
        "  print('Coefficient Information:')\n",
        "  for i, feature in enumerate(featureColumns):\n",
        "      print(f\"{feature}: {linreg.coef_[i]}\")\n",
        "\n",
        "  return linreg\n",
        "\n",
        "to_model = performLinRegTO(data_cleaned)"
      ],
      "metadata": {
        "colab": {
          "base_uri": "https://localhost:8080/"
        },
        "id": "XvcLfQBVt3Xr",
        "outputId": "f71f9f93-d183-49ca-a2a8-66c6ac067ddf"
      },
      "execution_count": 163,
      "outputs": [
        {
          "output_type": "stream",
          "name": "stdout",
          "text": [
            "Mean Absolute Error: 2.4942231869062237\n",
            "Mean Squared Error: 9.782434321160178\n",
            "Root Mean Squared Error: 3.1276883350423805\n",
            "R-squared: 0.38798753156659405\n",
            "----------------------------------\n",
            "Coefficient Information:\n",
            "AST: 0.06095857219377243\n",
            "REB: 0.29060619114635133\n",
            "+/-: -0.19391000352906088\n",
            "TO%: 0.04633347656849947\n",
            "FGA: -0.3082434928094601\n",
            "3P%: 0.025526964830914864\n",
            "STL: 0.4739146119943257\n",
            "OREB: 0.1775121385878604\n",
            "DREB: 0.11309405255849064\n",
            "FG%: 0.1961558975052585\n",
            "FT%: 0.02789022286644282\n"
          ]
        }
      ]
    },
    {
      "cell_type": "markdown",
      "source": [
        "#### **Assists**"
      ],
      "metadata": {
        "id": "EvYdPE6AuCbs"
      }
    },
    {
      "cell_type": "code",
      "source": [
        "# performLinRegAS creates the model that predicts the number of assists the home team will make\n",
        "def performLinRegAS(dataframe):\n",
        "  #factors\n",
        "  featureColumns = ['PTS', 'FGM', 'TOV', '+/-']\n",
        "\n",
        "  X = dataframe[featureColumns]\n",
        "  Y = dataframe['AST']\n",
        "\n",
        "  # training and testing sets\n",
        "  X_train, X_test, Y_train, Y_test = train_test_split(X, Y, test_size=0.25, shuffle=True)\n",
        "\n",
        "  linreg = LinearRegression()\n",
        "  linreg.fit(X_train, Y_train)\n",
        "  Y_pred = linreg.predict(X_test)\n",
        "  r2 = r2_score(Y_test, Y_pred)\n",
        "  global global_r2_as\n",
        "  global_r2_as = r2\n",
        "\n",
        "  # model performance, accuracy\n",
        "  print(\"Mean Absolute Error:\", metrics.mean_absolute_error(Y_test, Y_pred))\n",
        "  print(\"Mean Squared Error:\", metrics.mean_squared_error(Y_test, Y_pred))\n",
        "  print(\"Root Mean Squared Error:\", metrics.root_mean_squared_error(Y_test, Y_pred))\n",
        "  print(f\"R-squared: {global_r2_as}\")\n",
        "  print('----------------------------------')\n",
        "\n",
        "  # coefficients of factors within the multiple variable linear regression line\n",
        "  print('Coefficient Information:')\n",
        "  for i, feature in enumerate(featureColumns):\n",
        "      print(f\"{feature}: {linreg.coef_[i]}\")\n",
        "\n",
        "  return linreg\n",
        "\n",
        "as_model = performLinRegAS(data_cleaned)"
      ],
      "metadata": {
        "colab": {
          "base_uri": "https://localhost:8080/"
        },
        "id": "IT-otkibt4Ag",
        "outputId": "785acb31-5b7a-4fe0-93fe-d4ec4c04643b"
      },
      "execution_count": 164,
      "outputs": [
        {
          "output_type": "stream",
          "name": "stdout",
          "text": [
            "Mean Absolute Error: 3.1231272670850756\n",
            "Mean Squared Error: 15.228080568368508\n",
            "Root Mean Squared Error: 3.902317333119964\n",
            "R-squared: 0.45258674936275034\n",
            "----------------------------------\n",
            "Coefficient Information:\n",
            "PTS: 0.03163777405703058\n",
            "FGM: 0.5322625201591219\n",
            "TOV: 0.07089554790796235\n",
            "+/-: 0.04557233175107339\n"
          ]
        }
      ]
    },
    {
      "cell_type": "markdown",
      "source": [
        "#### **Free Throws Made**"
      ],
      "metadata": {
        "id": "Kpm8BHZDuFlz"
      }
    },
    {
      "cell_type": "code",
      "source": [
        "# performLinRegFT creates the model that predicts the number of free throws the home team will make\n",
        "def performLinRegFT(dataframe):\n",
        "  # factors\n",
        "  featureColumns = ['PTS', 'FGA', 'REB']\n",
        "\n",
        "  X = dataframe[featureColumns]\n",
        "  Y = dataframe['FTM']\n",
        "\n",
        "  # training and testing sets\n",
        "  X_train, X_test, Y_train, Y_test = train_test_split(X, Y, test_size=0.25, shuffle=True)\n",
        "\n",
        "  linreg = LinearRegression()\n",
        "  linreg.fit(X_train, Y_train)\n",
        "  Y_pred = linreg.predict(X_test)\n",
        "  r2 = r2_score(Y_test, Y_pred)\n",
        "  global global_r2_ft\n",
        "  global_r2_ft = r2\n",
        "\n",
        "  # model performance, accuracy\n",
        "  print(\"Mean Absolute Error:\", metrics.mean_absolute_error(Y_test, Y_pred))\n",
        "  print(\"Mean Squared Error:\", metrics.mean_squared_error(Y_test, Y_pred))\n",
        "  print(\"Root Mean Squared Error:\", metrics.root_mean_squared_error(Y_test, Y_pred))\n",
        "  print(f\"R-squared: {global_r2_ft}\")\n",
        "  print('----------------------------------')\n",
        "\n",
        "  # coefficients of factors within the multiple variable linear regression line\n",
        "  print('Coefficient Information:')\n",
        "  for i, feature in enumerate(featureColumns):\n",
        "      print(f\"{feature}: {linreg.coef_[i]}\")\n",
        "\n",
        "  return linreg\n",
        "\n",
        "ft_model = performLinRegFT(data_cleaned)"
      ],
      "metadata": {
        "colab": {
          "base_uri": "https://localhost:8080/"
        },
        "id": "GhoQgTSJt4YN",
        "outputId": "6be3cd8a-8dc1-4825-e9a6-7b7923401587"
      },
      "execution_count": 165,
      "outputs": [
        {
          "output_type": "stream",
          "name": "stdout",
          "text": [
            "Mean Absolute Error: 4.244705312788996\n",
            "Mean Squared Error: 28.458472456688504\n",
            "Root Mean Squared Error: 5.334648297375236\n",
            "R-squared: 0.25520296470002457\n",
            "----------------------------------\n",
            "Coefficient Information:\n",
            "PTS: 0.20675814349421465\n",
            "FGA: -0.4134995910564806\n",
            "REB: 0.19817315045186787\n"
          ]
        }
      ]
    },
    {
      "cell_type": "markdown",
      "source": [
        "#### **Blocks**"
      ],
      "metadata": {
        "id": "JfhKbM90uI0E"
      }
    },
    {
      "cell_type": "code",
      "source": [
        "# performLinRegBL creates the model that predicts the number of blocks the home team will make\n",
        "def performLinRegBL(dataframe):\n",
        "  # factors\n",
        "  featureColumns = ['REB', '+/-', 'STL']\n",
        "\n",
        "  X = dataframe[featureColumns]\n",
        "  Y = dataframe['BLK']\n",
        "\n",
        "  # training and testing sets\n",
        "  X_train, X_test, Y_train, Y_test = train_test_split(X, Y, test_size=0.25, shuffle=True)\n",
        "\n",
        "  linreg = LinearRegression()\n",
        "  linreg.fit(X_train, Y_train)\n",
        "  Y_pred = linreg.predict(X_test)\n",
        "  r2 = r2_score(Y_test, Y_pred)\n",
        "  global global_r2_bl\n",
        "  global_r2_bl = r2\n",
        "\n",
        "  # model performance, accuracy\n",
        "  print(\"Mean Absolute Error:\", metrics.mean_absolute_error(Y_test, Y_pred))\n",
        "  print(\"Mean Squared Error:\", metrics.mean_squared_error(Y_test, Y_pred))\n",
        "  print(\"Root Mean Squared Error:\", metrics.root_mean_squared_error(Y_test, Y_pred))\n",
        "  print(f\"R-squared: {global_r2_bl}\")\n",
        "  print('----------------------------------')\n",
        "\n",
        "  # coefficients of factors within the multiple variable linear regression line\n",
        "  print('Coefficient Information:')\n",
        "  for i, feature in enumerate(featureColumns):\n",
        "      print(f\"{feature}: {linreg.coef_[i]}\")\n",
        "\n",
        "  return linreg\n",
        "\n",
        "bl_model = performLinRegBL(data_cleaned)"
      ],
      "metadata": {
        "colab": {
          "base_uri": "https://localhost:8080/"
        },
        "id": "qprbMghJt41Y",
        "outputId": "d2767b85-da9a-4028-8c31-96886dd5d6b2"
      },
      "execution_count": 166,
      "outputs": [
        {
          "output_type": "stream",
          "name": "stdout",
          "text": [
            "Mean Absolute Error: 2.0066974560145368\n",
            "Mean Squared Error: 6.430331821374796\n",
            "Root Mean Squared Error: 2.535809894565205\n",
            "R-squared: 0.04377468258072059\n",
            "----------------------------------\n",
            "Coefficient Information:\n",
            "REB: 0.051640561452070764\n",
            "+/-: 0.02672765945045479\n",
            "STL: -0.005510459813088201\n"
          ]
        }
      ]
    },
    {
      "cell_type": "markdown",
      "source": [
        "#### **Field Goals Made**"
      ],
      "metadata": {
        "id": "bL-9wi43Isj_"
      }
    },
    {
      "cell_type": "code",
      "source": [
        "# performLinRegFGM creates the model that predicts the number of field goals the home team will make\n",
        "def performLinRegFGM(dataframe):\n",
        "  # factors\n",
        "  featureColumns = ['FGA', 'FG%', 'PTS','3PM', 'AST', 'TOV', '3P%', 'TO%']\n",
        "\n",
        "  X = dataframe[featureColumns]\n",
        "  Y = dataframe['FGM']\n",
        "\n",
        "  # training and testing sets\n",
        "  X_train, X_test, Y_train, Y_test = train_test_split(X, Y, test_size=0.25, shuffle=True)\n",
        "\n",
        "  linreg = LinearRegression()\n",
        "  linreg.fit(X_train, Y_train)\n",
        "  Y_pred = linreg.predict(X_test)\n",
        "  r2 = r2_score(Y_test, Y_pred)\n",
        "  global global_r2_fgm\n",
        "  global_r2_fgm = r2\n",
        "\n",
        "  # model performance, accuracy\n",
        "  print(\"Mean Absolute Error:\", metrics.mean_absolute_error(Y_test, Y_pred))\n",
        "  print(\"Mean Squared Error:\", metrics.mean_squared_error(Y_test, Y_pred))\n",
        "  print(\"Root Mean Squared Error:\", metrics.root_mean_squared_error(Y_test, Y_pred))\n",
        "  print(f\"R-squared: {global_r2_fgm}\")\n",
        "  print('----------------------------------')\n",
        "\n",
        "  # coefficients of factors within the multiple variable linear regression line\n",
        "  print('Coefficient Information:')\n",
        "  for i, feature in enumerate(featureColumns):\n",
        "      print(f\"{feature}: {linreg.coef_[i]}\")\n",
        "\n",
        "  return linreg\n",
        "\n",
        "fgm_model = performLinRegFGM(data_cleaned)"
      ],
      "metadata": {
        "colab": {
          "base_uri": "https://localhost:8080/"
        },
        "id": "LEVHBWQWIp9k",
        "outputId": "a1589657-f4ee-4eab-ad23-a2b36760f39d"
      },
      "execution_count": 167,
      "outputs": [
        {
          "output_type": "stream",
          "name": "stdout",
          "text": [
            "Mean Absolute Error: 0.3006481211754066\n",
            "Mean Squared Error: 0.20243459978783404\n",
            "Root Mean Squared Error: 0.44992732722944717\n",
            "R-squared: 0.9933575846352026\n",
            "----------------------------------\n",
            "Coefficient Information:\n",
            "FGA: 0.40753720319152065\n",
            "FG%: 0.8587580897674915\n",
            "PTS: 0.03665646061465733\n",
            "3PM: 0.03875456677530867\n",
            "AST: 0.007315820888784713\n",
            "TOV: -0.002066343807255261\n",
            "3P%: -0.0033260421120456657\n",
            "TO%: -0.11279561203531799\n"
          ]
        }
      ]
    },
    {
      "cell_type": "markdown",
      "source": [
        "### **Converting Abreviations to Full Names**"
      ],
      "metadata": {
        "id": "CwSoyhPuuUly"
      }
    },
    {
      "cell_type": "code",
      "source": [
        "# converts the inputed abreviation to their actual name, used ChatGPT to get the actual names for all of the abreviations, made the a list of the actual names for me\n",
        "team_names = {\n",
        "  'ATL': 'Atlanta Hawks',\n",
        "  'BKN': 'Brooklyn Nets',\n",
        "  'BOS': 'Boston Celtics',\n",
        "  'CHA': 'Charlotte Hornets',\n",
        "  'CHI': 'Chicago Bulls',\n",
        "  'CLE': 'Cleveland Cavaliers',\n",
        "  'DAL': 'Dallas Mavericks',\n",
        "  'DEN': 'Denver Nuggets',\n",
        "  'DET': 'Detroit Pistons',\n",
        "  'GSW': 'Golden State Warriors',\n",
        "  'HOU': 'Houston Rockets',\n",
        "  'IND': 'Indiana Pacers',\n",
        "  'LAC': 'Los Angeles Clippers',\n",
        "  'LAL': 'Los Angeles Lakers',\n",
        "  'MEM': 'Memphis Grizzlies',\n",
        "  'MIA': 'Miami Heat',\n",
        "  'MIL': 'Milwaukee Bucks',\n",
        "  'MIN': 'Minnesota Timberwolves',\n",
        "  'NOP': 'New Orleans Pelicans',\n",
        "  'OKC': 'Oklahoma City Thunder',\n",
        "  'ORL': 'Orlando Magic',\n",
        "  'PHI': 'Philadelphia 76ers',\n",
        "  'PHX': 'Phoenix Suns',\n",
        "  'POR': 'Portland Trail Blazers',\n",
        "  'SAC': 'Sacramento Kings',\n",
        "  'SAS': 'San Antonio Spurs',\n",
        "  'TOR': 'Toronto Raptors',\n",
        "  'UTA': 'Utah Jazz',\n",
        "  'WAS': 'Washington Wizards'\n",
        "  }\n",
        "\n",
        "def get_full_team_name(team_abbreviation):\n",
        "  # abreviation -> full name\n",
        "  return team_names.get(team_abbreviation)"
      ],
      "metadata": {
        "id": "pgkdiNMtuK-M"
      },
      "execution_count": 168,
      "outputs": []
    },
    {
      "cell_type": "markdown",
      "source": [
        "### **Prediction for One Game**"
      ],
      "metadata": {
        "id": "rTRA-AKVxBZC"
      }
    },
    {
      "cell_type": "code",
      "source": [
        "# takes user input of the game to predict using the home team, the away team, date of the game, and the season the game was played\n",
        "# gives the predicted chance of winning for the home game\n",
        "def predict_game_performance(home_team, away_team, game_date, season, dataframe):\n",
        "  # date formatting is consistent with file, Gemini fixed previous issue so that the game could be located even if the date is slightlyoff\n",
        "  game_date = pd.to_datetime(game_date)\n",
        "  data_cleaned.loc[:, 'date'] = pd.to_datetime(data_cleaned['date'])\n",
        "  formatted_date = game_date.strftime('%m-%d-%Y')\n",
        "\n",
        "  # gets stats for home and away team on that game day\n",
        "  game_data = dataframe[(dataframe['home'] == home_team) & (dataframe['date'] == game_date) & (dataframe['season'] == season)]\n",
        "  opp_data = dataframe[(dataframe['team'] == away_team) & (dataframe['date'] == game_date) & (dataframe['season'] == season)]\n",
        "\n",
        "  if game_data.empty:\n",
        "      print(f\"No data available for the game between the {get_full_team_name(home_team)} and the {get_full_team_name(away_team)} on {formatted_date}.\")\n",
        "      return\n",
        "\n",
        "  # specifying the factors for each linear regression line (didn't use Gemini to write this but the section f line below this was having issues with the columns because the test models wanted to access certain variables while others didn't- this was explained by Gemini- so I just made the columns separate for each one)\n",
        "  pt_featureColumns = ['W%', 'REB', 'TOV', '+/-', 'TO%', 'FTM', 'FTA', 'AST', 'BLK', 'FT%', 'FG%', 'OREB', '3PM']\n",
        "  rb_featureColumns = ['OREB', 'DREB','FG%', 'PTS', 'FT%', '+/-', 'BLK', '3P%']\n",
        "  to_featureColumns = ['AST', 'REB', '+/-', \"TO%\", \"FGA\", \"3P%\", \"STL\",\"OREB\",\"DREB\", \"FG%\", \"FT%\"]\n",
        "  as_featureColumns = ['PTS', 'FGM', 'TOV', '+/-']\n",
        "  ft_featureColumns = ['PTS', 'FGA', 'REB']\n",
        "  bl_featureColumns = ['REB', '+/-', 'STL']\n",
        "  fgm_featureColumns = ['FGA', 'FG%', 'PTS','3PM', 'AST', 'TOV', '3P%', 'TO%']\n",
        "\n",
        "\n",
        "  # predict the stats for the home team\n",
        "  pt_stats_pred = pt_model.predict(game_data[pt_featureColumns])\n",
        "  rb_stats_pred = rb_model.predict(game_data[rb_featureColumns])\n",
        "  to_stats_pred = to_model.predict(game_data[to_featureColumns])\n",
        "  as_stats_pred = as_model.predict(game_data[as_featureColumns])\n",
        "  ft_stats_pred = ft_model.predict(game_data[ft_featureColumns])\n",
        "  bl_stats_pred = bl_model.predict(game_data[bl_featureColumns])\n",
        "  fgm_stats_pred = fgm_model.predict(game_data[fgm_featureColumns])\n",
        "  opp_stats_pred = pt_model.predict(opp_data[pt_featureColumns])\n",
        "\n",
        "\n",
        "  # predictions for all variables\n",
        "  points_pred = pt_stats_pred[0]\n",
        "  rebounds_pred = rb_stats_pred[0]\n",
        "  turnovers_pred = to_stats_pred[0]\n",
        "  assists_pred = as_stats_pred[0]\n",
        "  free_throws_pred = ft_stats_pred[0]\n",
        "  blocks_pred = bl_stats_pred[0]\n",
        "  fgm_pred = fgm_stats_pred[0]\n",
        "  opp_pts_pred= opp_stats_pred[0]\n",
        "\n",
        "  # rounding points to the nearest integer\n",
        "  round_pts_home = round(points_pred)\n",
        "  round_pts_away = round(opp_pts_pred)\n",
        "\n",
        "  # printing prediction results for all linear regression predictions (pts, win probability, rebounds, turnovers, assists, free throws, blocks, and field goals made)\n",
        "  if round_pts_home > round_pts_away:\n",
        "    print(f'On {formatted_date}, the {get_full_team_name(home_team)} (home team) will defeat the {get_full_team_name(away_team)} (away team) by scoring {round(points_pred)} points to {round(opp_pts_pred)} with the following statistics:')\n",
        "  elif np.equal(round_pts_home,round_pts_away):\n",
        "    print(f'On {formatted_date}, the {get_full_team_name(home_team)} (home team) will tie the {get_full_team_name(away_team)} (away team) by both scoring {round(points_pred)} points with the following statistics:')\n",
        "  else:\n",
        "    print(f'On {formatted_date}, the {get_full_team_name(home_team)} (home team) will lose to the {get_full_team_name(away_team)} (away team) by scoring {round(points_pred)} points to {round(opp_pts_pred)} with the following statistics:')\n",
        "\n",
        "  print(f'- {round(rebounds_pred)} rebounds')\n",
        "  print(f'- {round(turnovers_pred)} turnovers')\n",
        "  print(f'- {round(assists_pred)} assists')\n",
        "  print(f'- {round(free_throws_pred)} free throws')\n",
        "  print(f'- {round(blocks_pred)} blocks')\n",
        "  print(f'- {round(fgm_pred)} field goals made')\n",
        "\n",
        "\n",
        "# Print statements for all inputs\n",
        "print('This NBA Predictor model predicts the scores of the two NBA teams the user inputs on the date of the game (also user input) along with \\nother basketball statistics for the home team. The capabilty of the linear regression models to encapsulate the data for the statistics \\nare as follows (scale of 0-1 where 0 is when the model explains 0 of the variance and 1 is where the model explains all of the variance):\\n')\n",
        "print(f'- Points: {global_r2_pts:.6f}')\n",
        "print(f'- Rebounds: {global_r2_rb:.6f}')\n",
        "print(f'- Turnovers: {global_r2_to:.6f}')\n",
        "print(f'- Assists: {global_r2_as:.6f}')\n",
        "print(f'- Free Throws Made: {global_r2_ft:.6f}')\n",
        "print(f'- Blocks: {global_r2_bl:.6f}')\n",
        "print(f'- Field Goals Made: {global_r2_fgm:.6f}')\n",
        "print('\\n----------------------------------')\n",
        "print('Predictions:')\n",
        "# predicting for one game (user entered home team, away team, date of game, and season)\n",
        "predict_game_performance('NOP', 'PHX', '2022-04-22', 2022, data_cleaned)\n",
        "print('\\n')\n",
        "predict_game_performance('CLE', 'WAS', '2021-11-10', 2022, data_cleaned)\n",
        "print('\\n')\n",
        "predict_game_performance('DEN', 'MIN', '2024-05-14', 2024, data_cleaned)\n",
        "print('\\n')\n",
        "predict_game_performance('DAL', 'IND', '2022-03-02', 2022, data_cleaned)"
      ],
      "metadata": {
        "id": "M0PxrPoqldSk",
        "colab": {
          "base_uri": "https://localhost:8080/"
        },
        "outputId": "0e6baee3-080e-4de3-9d95-4402f9b91673"
      },
      "execution_count": 171,
      "outputs": [
        {
          "output_type": "stream",
          "name": "stdout",
          "text": [
            "This NBA Predictor model predicts the scores of the two NBA teams the user inputs on the date of the game (also user input) along with \n",
            "other basketball statistics for the home team. The capabilty of the linear regression models to encapsulate the data for the statistics \n",
            "are as follows (scale of 0-1 where 0 is when the model explains 0 of the variance and 1 is where the model explains all of the variance):\n",
            "\n",
            "- Points: 0.961261\n",
            "- Rebounds: 1.000000\n",
            "- Turnovers: 0.387988\n",
            "- Assists: 0.452587\n",
            "- Free Throws Made: 0.255203\n",
            "- Blocks: 0.043775\n",
            "- Field Goals Made: 0.993358\n",
            "\n",
            "----------------------------------\n",
            "Predictions:\n",
            "On 04-22-2022, the New Orleans Pelicans (home team) will tie the Phoenix Suns (away team) by both scoring 112 points with the following statistics:\n",
            "- 45 rebounds\n",
            "- 16 turnovers\n",
            "- 23 assists\n",
            "- 22 free throws\n",
            "- 5 blocks\n",
            "- 38 field goals made\n",
            "\n",
            "\n",
            "On 11-10-2021, the Cleveland Cavaliers (home team) will lose to the Washington Wizards (away team) by scoring 95 points to 100 with the following statistics:\n",
            "- 40 rebounds\n",
            "- 15 turnovers\n",
            "- 21 assists\n",
            "- 19 free throws\n",
            "- 5 blocks\n",
            "- 35 field goals made\n",
            "\n",
            "\n",
            "On 05-14-2024, the Denver Nuggets (home team) will defeat the Minnesota Timberwolves (away team) by scoring 111 points to 98 with the following statistics:\n",
            "- 38 rebounds\n",
            "- 13 turnovers\n",
            "- 27 assists\n",
            "- 21 free throws\n",
            "- 5 blocks\n",
            "- 44 field goals made\n",
            "\n",
            "\n",
            "No data available for the game between the Dallas Mavericks and the Indiana Pacers on 03-02-2022.\n"
          ]
        }
      ]
    }
  ]
}